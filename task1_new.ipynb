{
 "cells": [
  {
   "cell_type": "raw",
   "id": "fb4ece1e-d3b2-4275-98a1-c2a88868c746",
   "metadata": {},
   "source": [
    "Author: TAN ZHI WEI"
   ]
  },
  {
   "cell_type": "code",
   "execution_count": 1,
   "id": "c96b16ec-625f-47b6-91ea-df247f86e5c2",
   "metadata": {},
   "outputs": [],
   "source": [
    "from dataingestion.tweet_fetcher import fetch_tweets\n",
    "from dataingestion.twitter_api import get_user_data\n",
    "from dataingestion.label_data import analyze_tweet_sentiment\n",
    "from dataingestion.kafka_producer import send_tweets_to_kafka\n",
    "from dataingestion.kafka_consumer import run_kafka_consumer\n",
    "from dataingestion.store_to_HDFS import consume_tweets_to_hdfs\n"
   ]
  },
  {
   "cell_type": "markdown",
   "id": "c2e8ba6a-41cf-4997-b01b-9d12226807ab",
   "metadata": {},
   "source": [
    "# get tweetID"
   ]
  },
  {
   "cell_type": "code",
   "execution_count": 2,
   "id": "2bbf3a9c-2703-4f97-a2ba-088c8fd8aa3c",
   "metadata": {},
   "outputs": [
    {
     "name": "stdin",
     "output_type": "stream",
     "text": [
      "Enter the username:  123\n"
     ]
    },
    {
     "name": "stdout",
     "output_type": "stream",
     "text": [
      "Querystring set to: {'username': '123'}\n",
      "Username: 123, Rest ID: 221445859\n"
     ]
    }
   ],
   "source": [
    "\n",
    "# Get user input\n",
    "username = input(\"Enter the username: \")\n",
    "\n",
    "# Call the function\n",
    "user_data = get_user_data(username)\n",
    "\n",
    "# Check if we got valid data\n",
    "if user_data[0] and user_data[1]:\n",
    "    print(f\"Username: {user_data[0]}, Rest ID: {user_data[1]}\")\n",
    "else:\n",
    "    print(\"Failed to retrieve user data.\")\n"
   ]
  },
  {
   "cell_type": "markdown",
   "id": "ce4051a6-e587-449d-a589-dc6ce6baa17d",
   "metadata": {},
   "source": [
    "# Tweet fetcher"
   ]
  },
  {
   "cell_type": "code",
   "execution_count": 3,
   "id": "f2c7dd57-2111-431d-8d5e-7406c48f8929",
   "metadata": {
    "scrolled": true
   },
   "outputs": [
    {
     "name": "stdout",
     "output_type": "stream",
     "text": [
      "Fetched 50 tweets for user 22594051\n",
      "Fetched 50 tweets for user 55186601\n",
      "Fetched 50 tweets for user 18040230\n",
      "Fetched 50 tweets for user 61083422\n",
      "Fetched 50 tweets for user 102098902\n",
      "Fetched 50 tweets for user 145550026\n",
      "\n",
      "Successfully fetched data for all users!\n",
      "Total tweets fetched: 300\n",
      "User 22594051 has 50 tweets\n",
      "User 55186601 has 50 tweets\n",
      "User 18040230 has 50 tweets\n",
      "User 61083422 has 50 tweets\n",
      "User 102098902 has 50 tweets\n",
      "User 145550026 has 50 tweets\n"
     ]
    }
   ],
   "source": [
    "def main():\n",
    "    # Define user IDs here in main\n",
    "    user_ids = [\"22594051\", \"55186601\", \"18040230\", \"61083422\", \"102098902\", \"145550026\"]\n",
    "    \n",
    "    # Call the function with the user IDs\n",
    "    tweets_data = fetch_tweets(\n",
    "        user_ids=user_ids,\n",
    "        count_per_user=50,\n",
    "        output_file='tweets_output.csv'\n",
    "    )\n",
    "    \n",
    "    # Example of how to use the returned data\n",
    "    for user_id, tweets in tweets_data.items():\n",
    "        print(f\"User {user_id} has {len(tweets)} tweets\")\n",
    "\n",
    "# Fix the syntax in the main check\n",
    "if __name__ == \"__main__\":\n",
    "    main()"
   ]
  },
  {
   "cell_type": "markdown",
   "id": "f5d9c49d-0bfc-4aa9-b5a0-00d95c1da2f1",
   "metadata": {},
   "source": [
    "# label data\n"
   ]
  },
  {
   "cell_type": "code",
   "execution_count": 4,
   "id": "9358391f-5f64-44f0-8565-bf5b117c8152",
   "metadata": {},
   "outputs": [
    {
     "name": "stdout",
     "output_type": "stream",
     "text": [
      "Sentiment distribution:\n",
      "Sentiment\n",
      "Positive    118\n",
      "Neutral      98\n",
      "Negative     84\n",
      "Name: count, dtype: int64\n",
      "\n",
      "Sample of tweets with sentiment:\n",
      "    User ID      Name  Followers Count  \\\n",
      "0  22594051  The Star          1903943   \n",
      "1  22594051  The Star          1903943   \n",
      "2  22594051  The Star          1903943   \n",
      "3  22594051  The Star          1903943   \n",
      "4  22594051  The Star          1903943   \n",
      "\n",
      "                                               Tweet                Location  \\\n",
      "0  It's a new day, yes it is! 🎺🦄\\n\\nHere's what y...  Kuala Lumpur, Malaysia   \n",
      "1  The victim, in her 50s, first became aware of ...  Kuala Lumpur, Malaysia   \n",
      "2  Myanmar pardoned over 4,900 prisoners on April...  Kuala Lumpur, Malaysia   \n",
      "3  The 88-year-old pontiff made a short foray out...  Kuala Lumpur, Malaysia   \n",
      "4  Police discovered 468.3kg of crystal meth wort...  Kuala Lumpur, Malaysia   \n",
      "\n",
      "                             Time  Friends Count Sentiment  \n",
      "0  Thu Apr 17 19:01:24 +0000 2025            274  Positive  \n",
      "1  Thu Apr 17 15:33:11 +0000 2025            274  Negative  \n",
      "2  Thu Apr 17 15:30:33 +0000 2025            274  Negative  \n",
      "3  Thu Apr 17 15:15:20 +0000 2025            274  Negative  \n",
      "4  Thu Apr 17 15:14:00 +0000 2025            274  Negative  \n",
      "\n",
      "Sentiment distribution by user:\n",
      "Sentiment  Negative  Neutral  Positive\n",
      "User ID                               \n",
      "18040230         20       19        11\n",
      "22594051         12       17        21\n",
      "55186601         16       12        22\n",
      "61083422         12       12        26\n",
      "102098902        14       28         8\n",
      "145550026        10       10        30\n",
      "\n",
      "Percentage of sentiment by user:\n",
      "Sentiment  Negative  Neutral  Positive\n",
      "User ID                               \n",
      "18040230       40.0     38.0      22.0\n",
      "22594051       24.0     34.0      42.0\n",
      "55186601       32.0     24.0      44.0\n",
      "61083422       24.0     24.0      52.0\n",
      "102098902      28.0     56.0      16.0\n",
      "145550026      20.0     20.0      60.0\n",
      "\n",
      "Results saved to tweets_output_with_sentiment.csv\n"
     ]
    }
   ],
   "source": [
    "analyzed_data = analyze_tweet_sentiment('tweets_output.csv')"
   ]
  },
  {
   "cell_type": "markdown",
   "id": "cb52548f-a425-4c7b-b792-bb9dc6f71023",
   "metadata": {},
   "source": [
    "# kafka producer"
   ]
  },
  {
   "cell_type": "code",
   "execution_count": 5,
   "id": "616d70a7-487c-4527-b9e7-3cf2dccf722e",
   "metadata": {},
   "outputs": [
    {
     "name": "stdout",
     "output_type": "stream",
     "text": [
      "Available columns in CSV: ['User ID', 'Name', 'Followers Count', 'Tweet', 'Location', 'Time', 'Friends Count', 'Sentiment']\n",
      "Mapped fields to actual columns: {'user_id': 'User ID', 'name': 'Name', 'followers_count': 'Followers Count', 'tweet_text': 'Tweet', 'location': 'Location', 'created_at': 'Time', 'friends_count': 'Friends Count', 'sentiment': 'Sentiment'}\n",
      "Tweet 1 data: {'user_id': 22594051, 'name': 'The Star', 'followers_count': 1903943, 'tweet_text': \"It's a new day, yes it is! 🎺🦄\\n\\nHere's what you can expect in your copy of The Star newspaper today. Read them online at\", 'location': 'Kuala Lumpur, Malaysia', 'created_at': 'Thu Apr 17 19:01:24 +0000 2025', 'friends_count': 274, 'sentiment': 'Positive'}\n",
      "Sent to topic: EntertainmentNewsTopic\n",
      "Tweet 2 data: {'user_id': 22594051, 'name': 'The Star', 'followers_count': 1903943, 'tweet_text': 'The victim, in her 50s, first became aware of the alleged scheme through an individual on Facebook in late December, 2024.', 'location': 'Kuala Lumpur, Malaysia', 'created_at': 'Thu Apr 17 15:33:11 +0000 2025', 'friends_count': 274, 'sentiment': 'Negative'}\n",
      "Sent to topic: MalaysiaNewsTopic\n",
      "Tweet 3 data: {'user_id': 22594051, 'name': 'The Star', 'followers_count': 1903943, 'tweet_text': 'Myanmar pardoned over 4,900 prisoners on April 17, the first day of the New Year on the Myanmar calendar.', 'location': 'Kuala Lumpur, Malaysia', 'created_at': 'Thu Apr 17 15:30:33 +0000 2025', 'friends_count': 274, 'sentiment': 'Negative'}\n",
      "Sent to topic: MalaysiaNewsTopic\n",
      "All tweets have been sent to Kafka\n",
      "Successfully processed 300 tweets\n"
     ]
    }
   ],
   "source": [
    "from pathlib import Path\n",
    "from dataingestion.kafka_producer import send_tweets_to_kafka\n",
    "def main():\n",
    "    \"\"\"\n",
    "    Main function to call the send_tweets_to_kafka function.\n",
    "    \"\"\"\n",
    "    # Define parameters directly in the code\n",
    "    csv_file_path = 'tweets_output_with_sentiment.csv'\n",
    "    kafka_servers = ['localhost:9092']\n",
    "    verbose = True\n",
    "    \n",
    "    # Validate CSV file path\n",
    "    csv_path = Path(csv_file_path)\n",
    "    if not csv_path.exists():\n",
    "        print(f\"Error: CSV file '{csv_file_path}' does not exist\")\n",
    "        return 1\n",
    "    \n",
    "    try:\n",
    "        # Process the tweets\n",
    "        tweet_count = send_tweets_to_kafka(\n",
    "            csv_file=csv_file_path,\n",
    "            bootstrap_servers=kafka_servers,\n",
    "            verbose=verbose\n",
    "        )\n",
    "        \n",
    "        print(f\"Successfully processed {tweet_count} tweets\")\n",
    "        return 0\n",
    "    except Exception as e:\n",
    "        print(f\"Error processing tweets: {e}\")\n",
    "        return 1\n",
    "\n",
    "if __name__ == \"__main__\":\n",
    "    main()"
   ]
  },
  {
   "cell_type": "markdown",
   "id": "ed9fea5e-99c8-482f-b56c-8af98c289de6",
   "metadata": {},
   "source": [
    "# kafka consumer"
   ]
  },
  {
   "cell_type": "code",
   "execution_count": 6,
   "id": "3494fd25-7e25-48a5-af98-1723896bfe69",
   "metadata": {},
   "outputs": [
    {
     "name": "stdout",
     "output_type": "stream",
     "text": [
      "#----------------------------------------#\n",
      "#   Kafka Tweet Consumer Tool            #\n",
      "#----------------------------------------#\n",
      "Available Topics:\n",
      "1. PoliticsNewsTopic\n",
      "2. BusinessNewsTopic\n",
      "3. SportsNewsTopic\n",
      "4. EntertainmentNewsTopic\n",
      "5. MalaysiaNewsTopic\n"
     ]
    },
    {
     "name": "stdin",
     "output_type": "stream",
     "text": [
      "\n",
      "Enter the number of the topic you want to consume from:  5\n"
     ]
    },
    {
     "name": "stdout",
     "output_type": "stream",
     "text": [
      "\n",
      "Output Format Options:\n",
      "1. Detailed - Show each field on a separate line\n",
      "2. Table - Show messages in a table format\n",
      "3. Compact - Show messages in a single line each\n"
     ]
    },
    {
     "name": "stdin",
     "output_type": "stream",
     "text": [
      "\n",
      "Select output format (1-3):  1\n",
      "\n",
      "Enter maximum number of messages to display (default: 5):  5\n"
     ]
    },
    {
     "name": "stdout",
     "output_type": "stream",
     "text": [
      "Consuming messages from MalaysiaNewsTopic...\n",
      "\n",
      "Message 1:\n",
      "  user_id: 22594051\n",
      "  name: The Star\n",
      "  followers_count: 1903943\n",
      "  tweet_text: The victim, in her 50s, first became aware of the alleged scheme through an individual on Facebook in late December, 2024.\n",
      "  location: Kuala Lumpur, Malaysia\n",
      "  created_at: Thu Apr 17 15:33:11 +0000 2025\n",
      "  friends_count: 274\n",
      "  sentiment: Negative\n",
      "\n",
      "Message 2:\n",
      "  user_id: 22594051\n",
      "  name: The Star\n",
      "  followers_count: 1903943\n",
      "  tweet_text: Myanmar pardoned over 4,900 prisoners on April 17, the first day of the New Year on the Myanmar calendar.\n",
      "  location: Kuala Lumpur, Malaysia\n",
      "  created_at: Thu Apr 17 15:30:33 +0000 2025\n",
      "  friends_count: 274\n",
      "  sentiment: Negative\n",
      "\n",
      "Message 3:\n",
      "  user_id: 22594051\n",
      "  name: The Star\n",
      "  followers_count: 1903943\n",
      "  tweet_text: The 88-year-old pontiff made a short foray outside of the Vatican, as the prison is only about a five-minute drive away.\n",
      "  location: Kuala Lumpur, Malaysia\n",
      "  created_at: Thu Apr 17 15:15:20 +0000 2025\n",
      "  friends_count: 274\n",
      "  sentiment: Negative\n",
      "\n",
      "Message 4:\n",
      "  user_id: 22594051\n",
      "  name: The Star\n",
      "  followers_count: 1903943\n",
      "  tweet_text: Police discovered 468.3kg of crystal meth worth RM15mil in an abandoned pickup truck at KM211 of the East Coast Highway 1.\n",
      "  location: Kuala Lumpur, Malaysia\n",
      "  created_at: Thu Apr 17 15:14:00 +0000 2025\n",
      "  friends_count: 274\n",
      "  sentiment: Negative\n",
      "\n",
      "Message 5:\n",
      "  user_id: 22594051\n",
      "  name: The Star\n",
      "  followers_count: 1903943\n",
      "  tweet_text: Monkey see, monkey do. 🙉🙊🙈\n",
      "\n",
      "For more Kee's World:\n",
      "  location: Kuala Lumpur, Malaysia\n",
      "  created_at: Thu Apr 17 15:02:27 +0000 2025\n",
      "  friends_count: 274\n",
      "  sentiment: Neutral\n",
      "\n",
      "Showing first 5 messages. 169 more messages available.\n",
      "\n",
      "✅ Successfully consumed 5 messages from MalaysiaNewsTopic.\n",
      "\n",
      "=== Fields Found in Messages ===\n",
      "  - created_at: Present in 5/5 messages (100.0%)\n",
      "  - followers_count: Present in 5/5 messages (100.0%)\n",
      "  - friends_count: Present in 5/5 messages (100.0%)\n",
      "  - location: Present in 5/5 messages (100.0%)\n",
      "  - name: Present in 5/5 messages (100.0%)\n",
      "  - sentiment: Present in 5/5 messages (100.0%)\n",
      "  - tweet_text: Present in 5/5 messages (100.0%)\n",
      "  - user_id: Present in 5/5 messages (100.0%)\n"
     ]
    },
    {
     "name": "stdin",
     "output_type": "stream",
     "text": [
      "\n",
      "Do you want to export these messages to CSV? (y/n):  n\n"
     ]
    },
    {
     "name": "stdout",
     "output_type": "stream",
     "text": [
      "\n",
      "Kafka consumer operation completed.\n"
     ]
    }
   ],
   "source": [
    "from dataingestion.kafka_consumer import run_kafka_consumer\n",
    "\n",
    "def main():\n",
    "    \"\"\"Main entry point of the application\"\"\"\n",
    "    run_kafka_consumer()\n",
    "\n",
    "if __name__ == \"__main__\":\n",
    "    main()"
   ]
  },
  {
   "cell_type": "markdown",
   "id": "28ce7e07-4f3d-4789-a38c-b420d956e669",
   "metadata": {},
   "source": [
    "# store to HDFS"
   ]
  },
  {
   "cell_type": "code",
   "execution_count": 7,
   "id": "ec0553ab-1aeb-4947-bb34-f8fb32255d7e",
   "metadata": {},
   "outputs": [
    {
     "name": "stdout",
     "output_type": "stream",
     "text": [
      "Starting to consume tweets and save to /user/hduser/raw_tweets/tweets_20250418_053129.json\n",
      "Saved 10 tweets to HDFS\n",
      "Saved 20 tweets to HDFS\n",
      "Saved 30 tweets to HDFS\n",
      "Saved 40 tweets to HDFS\n",
      "Saved 50 tweets to HDFS\n",
      "Saved 60 tweets to HDFS\n",
      "Saved 70 tweets to HDFS\n",
      "Saved 80 tweets to HDFS\n",
      "Saved 90 tweets to HDFS\n",
      "Saved 100 tweets to HDFS\n",
      "Saved 110 tweets to HDFS\n",
      "Saved 120 tweets to HDFS\n",
      "Saved 130 tweets to HDFS\n",
      "Saved 140 tweets to HDFS\n",
      "Saved 150 tweets to HDFS\n",
      "Saved 160 tweets to HDFS\n",
      "Saved 170 tweets to HDFS\n",
      "Saved 180 tweets to HDFS\n",
      "Saved 190 tweets to HDFS\n",
      "Saved 200 tweets to HDFS\n",
      "Saved 210 tweets to HDFS\n",
      "Saved 220 tweets to HDFS\n",
      "Saved 230 tweets to HDFS\n",
      "Saved 240 tweets to HDFS\n",
      "Saved 250 tweets to HDFS\n",
      "Saved 260 tweets to HDFS\n",
      "Saved 270 tweets to HDFS\n",
      "Saved 280 tweets to HDFS\n",
      "Saved 290 tweets to HDFS\n",
      "Saved 300 tweets to HDFS\n",
      "Reached limit of 300 tweets\n",
      "Consumer closed. Saved 300 tweets to HDFS.\n",
      "Successfully verified file exists: /user/hduser/raw_tweets/tweets_20250418_053129.json\n",
      "Run 'hadoop fs -cat /user/hduser/raw_tweets/tweets_20250418_053129.json' to view the content\n",
      "To check structure: hadoop fs -cat /user/hduser/raw_tweets/tweets_20250418_053129.json | head -20\n"
     ]
    }
   ],
   "source": [
    "from dataingestion.store_to_HDFS import consume_tweets_to_hdfs\n",
    "\n",
    "if __name__ == \"__main__\":\n",
    "    consume_tweets_to_hdfs()\n",
    "\n"
   ]
  },
  {
   "cell_type": "code",
   "execution_count": 8,
   "id": "aad5de49-1d16-460f-b291-7f840ec2e3c3",
   "metadata": {},
   "outputs": [],
   "source": [
    "#check availability of data\n",
    "#hadoop fs -ls /user/hduser/raw_tweets/  \n",
    "# hadoop fs -cat /user/hduser/raw_tweets/tweets_batch_20250418_032815_e7ff3920_10.json\n"
   ]
  },
  {
   "cell_type": "code",
   "execution_count": null,
   "id": "b7e2695c-2ab7-484d-9489-c5cb80094bc1",
   "metadata": {},
   "outputs": [],
   "source": []
  },
  {
   "cell_type": "code",
   "execution_count": null,
   "id": "57a68189-c86f-4f48-9834-f3165997e75e",
   "metadata": {},
   "outputs": [],
   "source": []
  }
 ],
 "metadata": {
  "kernelspec": {
   "display_name": "de-venv",
   "language": "python",
   "name": "de-venv"
  },
  "language_info": {
   "codemirror_mode": {
    "name": "ipython",
    "version": 3
   },
   "file_extension": ".py",
   "mimetype": "text/x-python",
   "name": "python",
   "nbconvert_exporter": "python",
   "pygments_lexer": "ipython3",
   "version": "3.10.12"
  }
 },
 "nbformat": 4,
 "nbformat_minor": 5
}
