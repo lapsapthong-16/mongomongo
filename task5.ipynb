{
 "cells": [
  {
   "cell_type": "markdown",
   "metadata": {},
   "source": [
    "Author: Edwina Hon Kai Xin"
   ]
  },
  {
   "cell_type": "code",
   "execution_count": null,
   "metadata": {},
   "outputs": [],
   "source": [
    "# Author: Your Name\n",
    "from graph.neo4j_driver import Neo4jConnection\n",
    "from graph.tweet_graph_builder import TweetGraphBuilder\n",
    "\n",
    "# Set up connection (replace with your credentials)\n",
    "neo4j_conn = Neo4jConnection(uri=\"bolt://localhost:7687\", user=\"neo4j\", password=\"your_password\")\n",
    "builder = TweetGraphBuilder(neo4j_conn)\n",
    "\n",
    "# Example data\n",
    "tweet = \"Tourism is booming!\"\n",
    "sentiment = \"Positive\"\n",
    "source = \"The Star\"\n",
    "\n",
    "# Build graph\n",
    "builder.create_tweet_graph(tweet, sentiment, source)"
   ]
  },
  {
   "cell_type": "markdown",
   "metadata": {},
   "source": [
    "You could model:\n",
    "\t•\t(:Tweet) nodes\n",
    "\t•\t(:Source) nodes (like “The Star”)\n",
    "\t•\t(:Sentiment) nodes\n",
    "\t•\t(:Keyword) nodes (from keyword extraction, optional)\n",
    "\n",
    "And relationships like:\n",
    "\t•\t(:Source)-[:POSTED]->(:Tweet)\n",
    "\t•\t(:Tweet)-[:HAS_SENTIMENT]->(:Sentiment)\n",
    "\t•\t(:Tweet)-[:MENTIONS]->(:Keyword)"
   ]
  },
  {
   "cell_type": "markdown",
   "metadata": {},
   "source": []
  }
 ],
 "metadata": {
  "language_info": {
   "name": "python"
  }
 },
 "nbformat": 4,
 "nbformat_minor": 2
}
