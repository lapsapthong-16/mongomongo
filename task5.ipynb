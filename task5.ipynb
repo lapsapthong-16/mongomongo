{
 "cells": [
  {
   "cell_type": "markdown",
   "metadata": {},
   "source": [
    "Author: Edwina Hon Kai Xin"
   ]
  },
  {
   "cell_type": "code",
   "execution_count": 1,
   "metadata": {},
   "outputs": [],
   "source": [
    "# Author: Edwina Hon Kai Xin\n",
    "from graph.neo4j_driver import Neo4jConnection\n",
    "from graph.tweet_graph_builder import TweetGraphBuilder\n",
    "\n",
    "# Set up connection without passing parameters (using defaults from neo4j_driver.py)\n",
    "neo4j_conn = Neo4jConnection()\n",
    "builder = TweetGraphBuilder(neo4j_conn)\n",
    "\n",
    "# Example data\n",
    "tweet = \"Tourism is booming!\"\n",
    "sentiment = \"Positive\"\n",
    "source = \"The Star\"\n",
    "\n",
    "# Build graph\n",
    "builder.create_tweet_graph(tweet, sentiment, source)"
   ]
  },
  {
   "cell_type": "markdown",
   "metadata": {},
   "source": [
    "You could model:\n",
    "\t•\t(:Tweet) nodes\n",
    "\t•\t(:Source) nodes (like “The Star”)\n",
    "\t•\t(:Sentiment) nodes\n",
    "\t•\t(:Keyword) nodes (from keyword extraction, optional)\n",
    "\n",
    "And relationships like:\n",
    "\t•\t(:Source)-[:POSTED]->(:Tweet)\n",
    "\t•\t(:Tweet)-[:HAS_SENTIMENT]->(:Sentiment)\n",
    "\t•\t(:Tweet)-[:MENTIONS]->(:Keyword)"
   ]
  },
  {
   "cell_type": "markdown",
   "metadata": {},
   "source": []
  }
 ],
 "metadata": {
  "kernelspec": {
   "display_name": ".venv",
   "language": "python",
   "name": "python3"
  },
  "language_info": {
   "codemirror_mode": {
    "name": "ipython",
    "version": 3
   },
   "file_extension": ".py",
   "mimetype": "text/x-python",
   "name": "python",
   "nbconvert_exporter": "python",
   "pygments_lexer": "ipython3",
   "version": "3.9.6"
  }
 },
 "nbformat": 4,
 "nbformat_minor": 2
}
