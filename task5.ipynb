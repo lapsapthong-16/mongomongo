{
 "cells": [
  {
   "cell_type": "markdown",
   "metadata": {},
   "source": [
    "Author: Edwina Hon Kai Xin"
   ]
  },
  {
   "cell_type": "code",
   "execution_count": 2,
   "metadata": {},
   "outputs": [],
   "source": [
    "from graph_db.neo4j_handler import Neo4jHandler\n",
    "\n",
    "neo = Neo4jHandler()"
   ]
  },
  {
   "cell_type": "markdown",
   "metadata": {},
   "source": [
    "### Validate and Extract Entities"
   ]
  },
  {
   "cell_type": "code",
   "execution_count": null,
   "metadata": {},
   "outputs": [],
   "source": [
    "from graph_db.entity_extractor import EntityExtractor\n",
    "from mongodb.tweet_validation import TweetValidator\n",
    "import json\n",
    "\n",
    "# Load data\n",
    "with open(\"data/full_sentiments.json\", \"r\") as f:\n",
    "    data = [json.loads(line) for line in f]\n",
    "\n",
    "# Validate\n",
    "validator = TweetValidator()\n",
    "data = validator.filter_valid(data)\n",
    "# Init\n",
    "extractor = EntityExtractor()"
   ]
  },
  {
   "cell_type": "markdown",
   "metadata": {},
   "source": [
    "# Push tweets to Neo4j"
   ]
  },
  {
   "cell_type": "code",
   "execution_count": 2,
   "metadata": {},
   "outputs": [
    {
     "name": "stderr",
     "output_type": "stream",
     "text": [
      "/Users/edw/Desktop/mongomongo/.venv/lib/python3.9/site-packages/urllib3/__init__.py:35: NotOpenSSLWarning: urllib3 v2 only supports OpenSSL 1.1.1+, currently the 'ssl' module is compiled with 'LibreSSL 2.8.3'. See: https://github.com/urllib3/urllib3/issues/3020\n",
      "  warnings.warn(\n"
     ]
    }
   ],
   "source": [
    "# Loop through tweets and push to Neo4j\n",
    "for tweet in data:\n",
    "    entities = extractor.extract_entities(tweet[\"Tweet\"])\n",
    "\n",
    "    neo.insert_tweet_graph(\n",
    "        tweet_text=tweet.get(\"Tweet\"),\n",
    "        sentiment=tweet.get(\"sentiment\"),\n",
    "        source=tweet.get(\"name\"),\n",
    "        time=tweet.get(\"Time\"),\n",
    "        entities=entities\n",
    "    )\n",
    "\n",
    "neo.close()"
   ]
  },
  {
   "cell_type": "markdown",
   "metadata": {},
   "source": [
    "# Querying"
   ]
  },
  {
   "cell_type": "code",
   "execution_count": 31,
   "metadata": {},
   "outputs": [],
   "source": [
    "from graph_db.tweet_graph import tweet_graph\n",
    "import pprint\n",
    "\n",
    "handler = Neo4jHandler()  \n",
    "queries = tweet_graph(handler)"
   ]
  },
  {
   "cell_type": "markdown",
   "metadata": {},
   "source": [
    "### Tweets of sentiments by source\n"
   ]
  },
  {
   "cell_type": "code",
   "execution_count": 33,
   "metadata": {},
   "outputs": [
    {
     "name": "stdout",
     "output_type": "stream",
     "text": [
      "{'count': 22, 'sentiment': 'Negative'}\n",
      "{'count': 17, 'sentiment': 'Positive'}\n",
      "{'count': 11, 'sentiment': 'Neutral'}\n"
     ]
    }
   ],
   "source": [
    "# Get all tweets of sentiments by source\n",
    "sentiments_by_source = queries.get_sentiment_by_source(\"The Star\")\n",
    "for s in sentiments_by_source:\n",
    "    pprint.pprint(s)"
   ]
  },
  {
   "cell_type": "markdown",
   "metadata": {},
   "source": [
    "### Tweets mentioning a specific person"
   ]
  },
  {
   "cell_type": "code",
   "execution_count": 34,
   "metadata": {},
   "outputs": [
    {
     "name": "stdout",
     "output_type": "stream",
     "text": [
      "{'time': 'Sat Apr 12 00:05:31 +0000 2025',\n",
      " 'tweet': 'Trump replaces Obama portrait with painting of himself #FMTNews '\n",
      "          '#FMTWorld'}\n"
     ]
    }
   ],
   "source": [
    "# Get all tweets mentioning \"Person\"\n",
    "swift_tweets = queries.get_tweets_mentioning_person(\"Obama\")\n",
    "for t in swift_tweets:\n",
    "    pprint.pprint(t)"
   ]
  },
  {
   "cell_type": "markdown",
   "metadata": {},
   "source": [
    "### More talked about topics"
   ]
  },
  {
   "cell_type": "code",
   "execution_count": 36,
   "metadata": {},
   "outputs": [
    {
     "name": "stdout",
     "output_type": "stream",
     "text": [
      "Top topics: [{'topic': 'Malaysian', 'count': 3}, {'topic': 'Muslims', 'count': 2}, {'topic': 'Palestinian', 'count': 2}, {'topic': 'Dewan', 'count': 2}, {'topic': 'Italian', 'count': 2}]\n"
     ]
    }
   ],
   "source": [
    " #Get top topics\n",
    "top_topics = queries.get_top_topics()\n",
    "print(\"Top topics:\", top_topics)"
   ]
  },
  {
   "cell_type": "markdown",
   "metadata": {},
   "source": [
    "### Tweets from a specific source between a date range"
   ]
  },
  {
   "cell_type": "code",
   "execution_count": 25,
   "metadata": {},
   "outputs": [],
   "source": [
    "jan_tweets = queries.get_tweets_by_source_and_date(\n",
    "    \"The Star\", \"2025-01-01T00:00:00\", \"2025-04-30T23:59:59\"\n",
    ")\n",
    "for t in jan_tweets:\n",
    "    print(t)\n"
   ]
  },
  {
   "cell_type": "markdown",
   "metadata": {},
   "source": [
    "### Tweets about a specific location"
   ]
  },
  {
   "cell_type": "code",
   "execution_count": 38,
   "metadata": {},
   "outputs": [
    {
     "name": "stdout",
     "output_type": "stream",
     "text": [
      "{'time': 'Sat Apr 12 01:28:23 +0000 2025',\n",
      " 'tweet': 'The shifting trade dynamics between the US and China may present '\n",
      "          'new openings for Malaysian entrepreneurs.'}\n",
      "{'time': 'Fri Apr 11 05:03:33 +0000 2025',\n",
      " 'tweet': \"COMMENT | M'sia's strategic opportunity in US-China trade war\"}\n",
      "{'time': 'Sat Apr 12 04:28:57 +0000 2025',\n",
      " 'tweet': 'Like countless other companies in the manufacturing powerhouse of '\n",
      "          'Zhejiang province, its products are geared largely towards export '\n",
      "          '-- a sector freshly menaced by Donald Trump’s roiling of the global '\n",
      "          'economy and increasingly brutal China tariffs.'}\n",
      "{'time': 'Sat Apr 12 04:00:20 +0000 2025',\n",
      " 'tweet': '\"Retaliatory US-China tariffs are damaging to the world, including '\n",
      "          'Malaysia – a small, open, trading nation.\\n'\n",
      "          '\\n'\n",
      "          '\"Still, this is no time to panic.\" - Tengku Zafrul'}\n",
      "{'time': 'Fri Apr 11 15:41:51 +0000 2025',\n",
      " 'tweet': \"Sze Fei-Izzuddin gave it their all but could not overcome China's \"\n",
      "          'determined Chen Boyang-Liu Yi.'}\n",
      "{'time': 'Fri Apr 11 09:12:11 +0000 2025',\n",
      " 'tweet': 'White House: Total tariffs on China now at 145pct'}\n",
      "{'time': 'Sat Apr 12 02:12:57 +0000 2025',\n",
      " 'tweet': 'China saman AS melalui WTO atas kenaikan tarif  #FMTNews #FMTBerita'}\n",
      "{'time': 'Sat Apr 12 03:26:26 +0000 2025',\n",
      " 'tweet': \"#NSTworld  Trump says tariff policy 'doing really well' despite \"\n",
      "          'China retaliation'}\n",
      "{'time': 'Fri Apr 11 12:01:26 +0000 2025',\n",
      " 'tweet': 'He said policy makers of both sides can collaborate and strengthen '\n",
      "          'crisis-response capabilities through engagements, fostering '\n",
      "          'communication and information sharing between different agencies '\n",
      "          'and stakeholders in ASEAN and China.'}\n",
      "{'time': 'Sat Apr 12 02:22:41 +0000 2025',\n",
      " 'tweet': 'Trump says tariff policy ‘doing really well’ despite China’s 125% '\n",
      "          'levies  #FMTNews #FMTWorld'}\n",
      "{'time': 'Fri Apr 11 23:50:50 +0000 2025',\n",
      " 'tweet': 'National men’s doubles pair Aaron Chia-Soh Wooi Yik were the only '\n",
      "          'Malaysian representatives who made it to the semi final stage of '\n",
      "          'the 2025 BAC in China after beating Indonesian Fajar '\n",
      "          'Alfian-Muhammad Rian Ardianto in the quarterfinals today.'}\n",
      "{'time': 'Sat Apr 12 04:56:38 +0000 2025',\n",
      " 'tweet': 'Hundreds of flights grounded as strong winds sweep China #FMTNews '\n",
      "          '#FMTWorld'}\n"
     ]
    }
   ],
   "source": [
    "# Get all tweets about \"Location\"\n",
    "location_tweets = queries.get_tweets_about_location(\"China\")\n",
    "for t in location_tweets:\n",
    "    pprint.pprint(t)"
   ]
  },
  {
   "cell_type": "markdown",
   "metadata": {},
   "source": [
    "### Get all tweets that mention both a person and an organisation"
   ]
  },
  {
   "cell_type": "code",
   "execution_count": 21,
   "metadata": {},
   "outputs": [],
   "source": [
    "collab_mentions = queries.get_joint_mentions(\"Elon Musk\", \"Tesla\")\n",
    "for t in collab_mentions:\n",
    "    print(t)"
   ]
  },
  {
   "cell_type": "markdown",
   "metadata": {},
   "source": [
    "### Tweets by sentiment"
   ]
  },
  {
   "cell_type": "code",
   "execution_count": 39,
   "metadata": {},
   "outputs": [
    {
     "name": "stdout",
     "output_type": "stream",
     "text": [
      "{'time': 'Sat Apr 12 03:40:15 +0000 2025',\n",
      " 'tweet': '\"Can we have the best of both worlds? Big, sporty, exciting, '\n",
      "          'luxurious cars that are also economical to buy and run?\\n'\n",
      "          '\\n'\n",
      "          '\"Simply put, yes.\" - Ravindran Kurusamy'}\n",
      "{'time': 'Sat Apr 12 03:30:16 +0000 2025',\n",
      " 'tweet': 'These toys have managed to transcend the traditional toy market, '\n",
      "          'appealing to the emotional and psychological needs of young adults.'}\n",
      "{'time': 'Sat Apr 12 02:15:11 +0000 2025',\n",
      " 'tweet': 'Fahmi expressed optimism that the visit would not only strengthen '\n",
      "          'economic ties but also deepen cultural and people-to-people '\n",
      "          'connections between the two nations.'}\n",
      "{'time': 'Sat Apr 12 01:28:23 +0000 2025',\n",
      " 'tweet': 'The shifting trade dynamics between the US and China may present '\n",
      "          'new openings for Malaysian entrepreneurs.'}\n",
      "{'time': 'Fri Apr 11 15:09:38 +0000 2025',\n",
      " 'tweet': '“Several Thai businesses are with us today to introduce authentic '\n",
      "          'Thai culinary dishes, beverages and high-quality products and '\n",
      "          'services, which I encourage you to explore at over 40 stalls around '\n",
      "          'the festival area,” she said.'}\n",
      "{'time': 'Sat Apr 12 04:17:01 +0000 2025',\n",
      " 'tweet': 'IMF board approves new US$20bil bailout for Argentina #FMTNews '\n",
      "          '#FMTBusiness'}\n",
      "{'time': 'Sat Apr 12 03:00:20 +0000 2025',\n",
      " 'tweet': 'He gave up his dream of becoming a craftsman for a “more stable '\n",
      "          'future” \\xaddecades ago, but Mok Pin Phin never abandoned his '\n",
      "          'artistic passion.'}\n",
      "{'time': 'Sat Apr 12 00:46:51 +0000 2025',\n",
      " 'tweet': 'How music can spark our most precious memories #FMTNews '\n",
      "          '#FMTLifestyle'}\n",
      "{'time': 'Wed Apr 09 04:38:49 +0000 2025',\n",
      " 'tweet': 'convalescenceThe Holy See Press Office tells journalists that Pope '\n",
      "          'Francis continues to show gradual improvements during his recovery '\n",
      "          \"at the Casa Santa Marta, and comments on the Pope's unexpected \"\n",
      "          \"visit to St. Peter's Square on Sunday.\"}\n",
      "{'time': 'Sat Apr 12 02:35:14 +0000 2025',\n",
      " 'tweet': 'Their discussions focused on how Asean can collectively strengthen '\n",
      "          'and position the region as an effective and credible dispute '\n",
      "          'resolution hub.'}\n",
      "{'time': 'Sat Apr 12 02:25:13 +0000 2025',\n",
      " 'tweet': 'Police advised the public to be careful while using electrical and '\n",
      "          'electronic devices during floods.'}\n",
      "{'time': 'Sat Apr 12 02:10:13 +0000 2025',\n",
      " 'tweet': 'The number of people applying to become teachers at Chinese '\n",
      "          'vernacular schools rose by nearly 50%.'}\n",
      "{'time': 'Sat Apr 12 02:05:12 +0000 2025',\n",
      " 'tweet': 'Penangites have the highest level of interest nationwide when it '\n",
      "          'comes to looking up Google for more information about tariffs.\\n'\n",
      "          '\\n'\n",
      "          'KL came second, followed by Selangor, Putrajaya and Johor.'}\n",
      "{'time': 'Sat Apr 12 01:40:12 +0000 2025',\n",
      " 'tweet': 'The Energy Commission is actively working to restore gas supply and '\n",
      "          'ensure distribution of resources in the surrounding areas affected '\n",
      "          'by the pipeline blast in Putra Heights.'}\n",
      "{'time': 'Sat Apr 12 01:29:06 +0000 2025',\n",
      " 'tweet': 'Tengku Zafrul confirmed that all Asean leaders have agreed to go to '\n",
      "          'the US to meet up with Trump during the summit.'}\n",
      "{'time': 'Sat Apr 12 01:22:29 +0000 2025',\n",
      " 'tweet': 'The PM said PTPTN’s outstanding debt has nearly reached RM40bil to '\n",
      "          'date.'}\n",
      "{'time': 'Sat Apr 12 01:20:14 +0000 2025',\n",
      " 'tweet': 'While many believe it is best to run out of a building, experts say '\n",
      "          'it is best to take cover first while waiting for the shock waves to '\n",
      "          'subside.'}\n",
      "{'time': 'Sat Apr 12 01:05:37 +0000 2025',\n",
      " 'tweet': 'Ongoing safety concerns have prevented ground zero technical '\n",
      "          'on-site investigations and inspections of the gas pipeline fire in '\n",
      "          'Putra Heights.'}\n",
      "{'time': 'Sat Apr 12 00:53:38 +0000 2025',\n",
      " 'tweet': 'PTPTN will continue to assist borrowers in settling their debts via '\n",
      "          'negotiations for more flexible repayments.'}\n",
      "{'time': 'Sat Apr 12 04:14:56 +0000 2025',\n",
      " 'tweet': \"#NSTnation Kelantan MB hopes the state's good ties with Putrajaya \"\n",
      "          'will continue'}\n",
      "{'time': 'Sat Apr 12 03:32:54 +0000 2025',\n",
      " 'tweet': '#NSTnation Anwar urges swift action on people-centric projects in '\n",
      "          'Kelantan'}\n",
      "{'time': 'Sat Apr 12 03:03:40 +0000 2025',\n",
      " 'tweet': '#NSTnation  Selangor floods: 1,411 from 380 families in relief '\n",
      "          'shelters'}\n",
      "{'time': 'Sat Apr 12 02:17:27 +0000 2025',\n",
      " 'tweet': '#NSTnation  Tapah comes alive for Ayer Kuning nomination day'}\n",
      "{'time': 'Sat Apr 12 02:12:29 +0000 2025',\n",
      " 'tweet': '#NSTnation  Anwar attending Kelantan state development special '\n",
      "          'meeting'}\n",
      "{'time': 'Fri Apr 11 12:30:09 +0000 2025',\n",
      " 'tweet': \"M'sia hopes to enhance ties during Xi's visit next week - Fahmi\"}\n",
      "{'time': 'Fri Apr 11 12:12:09 +0000 2025',\n",
      " 'tweet': 'Kedah PKR Youth polls cancelled, fresh voting tomorrow'}\n",
      "{'time': 'Fri Apr 11 10:47:06 +0000 2025',\n",
      " 'tweet': 'The Selangor Islamic Religious Department (Jais) said it will '\n",
      "          'inspect all lands under its control within the next month to ensure '\n",
      "          'there has been no encroachment.\\n'\n",
      "          '\\n'\n",
      "          'This was after two temples were found illegally encroaching on land '\n",
      "          'meant for a mosque in Dengkil, said the religious…'}\n",
      "{'time': 'Fri Apr 11 09:43:33 +0000 2025',\n",
      " 'tweet': \"Spy claims: TCO is 'travel control officer', IGP clarifies\"}\n",
      "{'time': 'Fri Apr 11 07:19:12 +0000 2025',\n",
      " 'tweet': 'Fire Dept studying best practices in gas pipeline management, '\n",
      "          'safety'}\n",
      "{'time': 'Fri Apr 11 05:51:49 +0000 2025',\n",
      " 'tweet': '[Sustainability] Sustainable Farming, Stronger Communities\\n'\n",
      "          '\\n'\n",
      "          'HEINEKEN Cares, PWD Smart FarmAbility, and Sokong boost food '\n",
      "          'security, empowering communities through regenerative agriculture.'}\n",
      "{'time': 'Fri Apr 11 04:22:33 +0000 2025',\n",
      " 'tweet': 'Anwar receives honorary doctorate from US varsity, says not due to '\n",
      "          'PM post'}\n",
      "{'time': 'Fri Apr 11 01:40:33 +0000 2025',\n",
      " 'tweet': 'Asean requested special summit with US over tariffs, Zafrul says'}\n",
      "{'time': 'Fri Apr 11 01:23:13 +0000 2025',\n",
      " 'tweet': 'Umno veterans told to sprinkle love, not hate in Ayer Kuning'}\n",
      "{'time': 'Sat Apr 12 04:23:39 +0000 2025',\n",
      " 'tweet': '“I felt I was in very good shape. Good heart,“ Trump told reporters '\n",
      "          'aboard Air Force One, adding that “I took a cognitive test. I don’t '\n",
      "          'know what to tell you other than I got every answer right.”'}\n",
      "{'time': 'Sat Apr 12 04:16:37 +0000 2025',\n",
      " 'tweet': '“This is also to ensure that higher education in Malaysia remains '\n",
      "          'inclusive, sustainable, and relevant for future generations.'}\n",
      "{'time': 'Sat Apr 12 03:30:41 +0000 2025',\n",
      " 'tweet': 'However, the total number of road accidents increased by four per '\n",
      "          'cent, rising to 9,859 cases compared to 9,451 last year.'}\n",
      "{'time': 'Sat Apr 12 03:27:01 +0000 2025',\n",
      " 'tweet': 'While some make it a yearly tradition to reunite with family and '\n",
      "          'relatives in Malaysia, others are unable to return due to work or '\n",
      "          'study commitments.'}\n",
      "{'time': 'Sat Apr 12 02:21:23 +0000 2025',\n",
      " 'tweet': '“My house is damaged, but not so badly that we can’t live in it. '\n",
      "          'Alhamdulillah, we have water and electricity. We’ve cleaned up, and '\n",
      "          'for now, it’s liveable,” he told theSun.'}\n",
      "{'time': 'Fri Apr 11 15:42:47 +0000 2025',\n",
      " 'tweet': 'Get the latest news from the comfort of your home! Click the link '\n",
      "          \"to read theSun's Ipaper today!\"}\n",
      "{'time': 'Fri Apr 11 15:08:47 +0000 2025',\n",
      " 'tweet': 'She extended the people’s gratitude to ASEAN member states for '\n",
      "          'their swift response and invaluable support.'}\n",
      "{'time': 'Fri Apr 11 13:42:11 +0000 2025',\n",
      " 'tweet': '“Police investigations revealed that the vehicle was not damaged '\n",
      "          'and remained locked until the raid was carried out (at 9.25 am on '\n",
      "          'Sept 6, 2024),” he said.'}\n",
      "{'time': 'Fri Apr 11 13:40:20 +0000 2025',\n",
      " 'tweet': '“This is a great honour for Malaysia and I believe that we have a '\n",
      "          'lot of opportunities that we can discuss, strengthen and build on '\n",
      "          'the past achievements, as well as future opportunities,”'}\n",
      "{'time': 'Sat Apr 12 04:00:44 +0000 2025',\n",
      " 'tweet': 'Embracing Lembah Bujang: our shared legacy beyond belief  #FMTNews '\n",
      "          '#FMTEng'}\n",
      "{'time': 'Sat Apr 12 03:34:35 +0000 2025',\n",
      " 'tweet': 'LA judge says Menendez brothers’ resentencing can go ahead  '\n",
      "          '#FMTNews #FMTLifestyle'}\n",
      "{'time': 'Sat Apr 12 03:01:10 +0000 2025',\n",
      " 'tweet': 'BN will retain Ayer Kuning, but boosting majority uncertain, says '\n",
      "          'Saravanan  #FMTNews #FMTEng'}\n",
      "{'time': 'Sat Apr 12 02:41:43 +0000 2025',\n",
      " 'tweet': 'Israel says it intercepted drone launched by Houthis  #FMTNews '\n",
      "          '#FMTWorld'}\n",
      "{'time': 'Sat Apr 12 02:52:36 +0000 2025',\n",
      " 'tweet': 'The Catholic Church in Malaysia launched the Perjalanan Salib '\n",
      "          '(Journey of the Cross) on April 3, at the Cathedral of the Sacred '\n",
      "          'Heart.'}\n",
      "{'time': 'Fri Apr 11 19:30:00 +0000 2025',\n",
      " 'tweet': 'Julius was the son of a Roman named Rusticus. He was elected Pope '\n",
      "          'to succeed Pope St. Mark on February 6, 337.\\n'\n",
      "          '\\n'\n",
      "          'Read more on:'}\n",
      "{'time': 'Fri Apr 11 04:21:02 +0000 2025',\n",
      " 'tweet': 'Pope Francis makes a surprise outing from Casa Santa Marta, where '\n",
      "          'he continues his convalescence and has gradually resumed some '\n",
      "          'meetings.'}\n",
      "{'time': 'Fri Apr 11 02:47:00 +0000 2025',\n",
      " 'tweet': 'Thousands of people joined the funeral service of retired Jesuit  '\n",
      "          'Archbishop Pascal Topno of Bhopal in central India on April 9, '\n",
      "          'hailing  the indigenous Church leader’s simplicity and love for his '\n",
      "          'people.'}\n",
      "{'time': 'Thu Apr 10 19:34:00 +0000 2025',\n",
      " 'tweet': 'On April 11, the Catholic Church honors the memory of the '\n",
      "          '11th-century  bishop and martyr St. Stanislaus of Krakow, who died '\n",
      "          'for the faith at  the hands of King Boleslaus II.'}\n",
      "{'time': 'Thu Apr 10 17:50:00 +0000 2025',\n",
      " 'tweet': 'The number of child deaths globally remains “unacceptably high,” '\n",
      "          'and many of them could be prevented.'}\n",
      "{'time': 'Thu Apr 10 13:01:00 +0000 2025',\n",
      " 'tweet': 'As part of the Jubilee of Hope, a World Meeting of Prayer Groups  '\n",
      "          'of the Charismatic Renewal has concluded in Rome. The movement '\n",
      "          'seeks to  renew Christian life through a living experience of the '\n",
      "          'Holy Spirit.'}\n",
      "{'time': 'Thu Apr 10 11:00:03 +0000 2025',\n",
      " 'tweet': 'A Cardinal, an Ambassador, and a Lutheran Bishop are among those  '\n",
      "          'gathering in Rome to discuss climate justice, social cohesion, and  '\n",
      "          'interreligious dialogue.'}\n",
      "{'time': 'Thu Apr 10 11:00:00 +0000 2025',\n",
      " 'tweet': 'In its latest Annual Report, the Vatican Supervisory and Financial '\n",
      "          'Information Authority (ASIF) highlights increasingly effective '\n",
      "          'procedures and greater attention to geographical risk.'}\n",
      "{'time': 'Thu Apr 10 09:30:00 +0000 2025',\n",
      " 'tweet': 'Pope Francis holds a private audience at the Casa Santa Marta with  '\n",
      "          'Britain’s King Charles III and Queen Camilla, expressing his best  '\n",
      "          'wishes for their wedding anniversary.'}\n",
      "{'time': 'Thu Apr 10 08:00:02 +0000 2025',\n",
      " 'tweet': 'Fr. Gabriel Romanelli, the pastor of the Latin-rite Church of the  '\n",
      "          \"Holy Family in Gaza, speaks about the parish's unceasing  prayers \"\n",
      "          \"for peace, and how Pope Francis' continued phone calls mean so  \"\n",
      "          \"much to them as they continue to 'live in a cage.'\"}\n",
      "{'time': 'Thu Apr 10 06:24:00 +0000 2025',\n",
      " 'tweet': 'Pope Francis calls his papal almoner, Cardinal Konrad Krajewski,  '\n",
      "          'to express support for his mission to deliver four ambulances he '\n",
      "          'donated  and to offer his blessings to the Ukrainian people.'}\n",
      "{'time': 'Thu Apr 10 04:28:24 +0000 2025',\n",
      " 'tweet': \"In Pope Francis' prepared catechesis for the weekly General  \"\n",
      "          'Audience, which was not held due to his ongoing convalescence, he '\n",
      "          'urges  the faithful to give up all burdens weighing down their '\n",
      "          'hearts.'}\n",
      "{'time': 'Wed Apr 09 19:30:00 +0000 2025',\n",
      " 'tweet': 'Magdalene Gabriella of Canossa was born in Verona on March 1, 1774 '\n",
      "          'of the noble family\\xa0 of the Marquises of Canossa.\\n'\n",
      "          '\\n'\n",
      "          'Read more on:'}\n",
      "{'time': 'Tue Apr 08 23:30:00 +0000 2025',\n",
      " 'tweet': \"Thanks to a new agreement between the Community of Sant'Egidio and \"\n",
      "          'various Italian ministries and organizations, 700 refugees from '\n",
      "          \"Afghanistan will be welcomed into Italy through the Community's \"\n",
      "          \"'humanitarian corridors' program.\"}\n",
      "{'time': 'Tue Apr 08 10:30:00 +0000 2025',\n",
      " 'tweet': 'The Knights of Malta Thailand (KMT) marked the conclusion of the '\n",
      "          'Jubilee of the Sick and Healthcare Workers with renewed gratitude '\n",
      "          'and commitment to their mission, as Pope Francis made a surprise '\n",
      "          'appearance at St. Peter’s Square on Sunday.'}\n",
      "{'time': 'Tue Apr 08 06:02:00 +0000 2025',\n",
      " 'tweet': 'The Dicastery for Promoting Integral Human Development announces  '\n",
      "          'the theme chosen by Pope Francis for this year’s celebration of '\n",
      "          'the  World Day of Prayer for the Care of Creation, held on '\n",
      "          'September 1.'}\n",
      "{'time': 'Tue Apr 08 04:49:20 +0000 2025',\n",
      " 'tweet': 'Pope invites bishops worldwide to support Lateran University'}\n",
      "{'time': 'Sat Apr 12 01:50:13 +0000 2025',\n",
      " 'tweet': 'Several raids were conducted leading to billions in assets seized.'}\n",
      "{'time': 'Sat Apr 12 01:39:38 +0000 2025',\n",
      " 'tweet': 'A little-known corner of Perak between Tapah and Kampar, called '\n",
      "          'Ayer Kuning, will come alive today, courtesy of a by-election.'}\n",
      "{'time': 'Sat Apr 12 04:48:13 +0000 2025',\n",
      " 'tweet': \"#NSTnation PM's political secretary wins PKR Alor Setar division \"\n",
      "          'chief post'}\n",
      "{'time': 'Sat Apr 12 03:26:26 +0000 2025',\n",
      " 'tweet': \"#NSTworld  Trump says tariff policy 'doing really well' despite \"\n",
      "          'China retaliation'}\n",
      "{'time': 'Sat Apr 12 03:14:50 +0000 2025',\n",
      " 'tweet': '#NSTTV The nomination centre for the Ayer Kuning state by-election '\n",
      "          'at Dewan Merdeka here opened at 9am today. Parties and candidates '\n",
      "          'intending to contest are given one hour to file their nomination '\n",
      "          'papers, after which returning officer Ahmad Redhauddin Ahmad '\n",
      "          'Shokori will announce…'}\n",
      "{'time': 'Sat Apr 12 03:00:00 +0000 2025',\n",
      " 'tweet': '#NSTTV Supporters of the #AyerKuning by-election candidates began '\n",
      "          'gathering as early as 7am to accompany them to the nomination '\n",
      "          'centre at Dewan Merdeka Tapah.'}\n",
      "{'time': 'Fri Apr 11 11:55:35 +0000 2025',\n",
      " 'tweet': 'Save Musang King Alliance (Samka) gathered around 400 signatures '\n",
      "          'today in under three hours for its petition to halt durian '\n",
      "          'tree-felling operations by the Pahang State Enforcement Unit (UPNP) '\n",
      "          'on disputed land.\\n'\n",
      "          '\\n'\n",
      "          'The petition will be brought to Prime Minister Anwar Ibrahim and…'}\n",
      "{'time': 'Fri Apr 11 03:13:54 +0000 2025',\n",
      " 'tweet': 'Umno Veterans’ Club has called on its campaign machinery to steer '\n",
      "          'clear of hate politics during the Ayer Kuning by-election campaign '\n",
      "          'in Perak.\\n'\n",
      "          '\\n'\n",
      "          'Its secretary Mustapha Yaakub emphasised the importance of '\n",
      "          'conducting the campaign with decorum, civility, and compassion.\\n'\n",
      "          '\\n'\n",
      "          '“Don’t…'}\n",
      "{'time': 'Sat Apr 12 05:21:05 +0000 2025',\n",
      " 'tweet': 'He said police are satisfied with the cooperation given by the '\n",
      "          'contesting political parties and that no untoward incidents '\n",
      "          'occurred up till the nomination process ended at 10 am.'}\n",
      "{'time': 'Sat Apr 12 04:30:02 +0000 2025',\n",
      " 'tweet': 'The IMF approved a new four-year $20 billion bailout for the South '\n",
      "          'American nation as the World Bank said it would pump $12 billion '\n",
      "          'into the economy and the Inter-American Development Bank (IDB) '\n",
      "          'announced plans for a $10 billion deal.'}\n",
      "{'time': 'Sat Apr 12 04:17:25 +0000 2025',\n",
      " 'tweet': 'Prime Minister Datuk Seri Anwar Ibrahim arrived at Pantai Irama '\n",
      "          'here today to join the joyous Kelantan state-level Aidilfitri '\n",
      "          'MADANI 2025 celebration.'}\n",
      "{'time': 'Sat Apr 12 02:22:40 +0000 2025',\n",
      " 'tweet': 'In his one phone call with Trump since taking over as prime '\n",
      "          'minister on March 14, Carney and the president agreed Washington '\n",
      "          'and Ottawa would discuss future trade relations after the election.'}\n",
      "{'time': 'Sat Apr 12 01:46:44 +0000 2025',\n",
      " 'tweet': 'MPs will join a rare Saturday sitting to discuss the draft bill '\n",
      "          'which would allow the Labour administration to take measures to '\n",
      "          'prevent the plant’s imminent closure with thousands of jobs at '\n",
      "          'stake.'}\n",
      "{'time': 'Fri Apr 11 15:05:57 +0000 2025',\n",
      " 'tweet': '“There are many ways ... because nowadays it is not only confined '\n",
      "          'to a door-to-door campaign. Social media is one of them and, of '\n",
      "          'course, the personal touch is very important, so we cannot just '\n",
      "          'ignore or even neglect any voters,” he said.'}\n",
      "{'time': 'Fri Apr 11 12:01:26 +0000 2025',\n",
      " 'tweet': 'He said policy makers of both sides can collaborate and strengthen '\n",
      "          'crisis-response capabilities through engagements, fostering '\n",
      "          'communication and information sharing between different agencies '\n",
      "          'and stakeholders in ASEAN and China.'}\n",
      "{'time': 'Fri Apr 11 07:30:00 +0000 2025',\n",
      " 'tweet': 'Archbishop Peter Chung Soon-taick of Seoul has called on the  '\n",
      "          'faithful to stand united in hope and conviction as South Korea '\n",
      "          'faces  deepening political uncertainty.'}\n",
      "{'time': 'Sat Apr 12 05:07:43 +0000 2025',\n",
      " 'tweet': '#NSTsports Salman wants AFC to consider awarding 2031 and 2035 '\n",
      "          'Asian Cups at same time'}\n",
      "{'time': 'Sat Apr 12 04:23:18 +0000 2025',\n",
      " 'tweet': '#NSTsports Newcastle United draw closer to UCL berth as Man United '\n",
      "          'visit'}\n",
      "{'time': 'Sat Apr 12 01:55:47 +0000 2025',\n",
      " 'tweet': \"#NSTsports Aaron-Wooi Yik hit top gear with Herry's courtside \"\n",
      "          'presence in Ningbo'}\n",
      "{'time': 'Sat Apr 12 01:41:14 +0000 2025',\n",
      " 'tweet': '#NSTsports Arteta urges Arsenal to carry Champions League momentum '\n",
      "          'into Brentford clash'}\n",
      "{'time': 'Sat Apr 12 00:44:53 +0000 2025',\n",
      " 'tweet': \"#NSTsports Man United don't have big enough squad to rotate, says \"\n",
      "          'Amorim'}\n",
      "{'time': 'Sat Apr 12 05:07:36 +0000 2025',\n",
      " 'tweet': 'Spanish amateur apologises for peeing in creek at Masters  #FMTNews '\n",
      "          '#FMTSports'}\n",
      "{'time': 'Sat Apr 12 04:56:38 +0000 2025',\n",
      " 'tweet': 'Hundreds of flights grounded as strong winds sweep China #FMTNews '\n",
      "          '#FMTWorld'}\n",
      "{'time': 'Sat Apr 12 04:55:21 +0000 2025',\n",
      " 'tweet': 'PM’s aide, Sungai Petani MP win PKR divisional chief posts in Kedah '\n",
      "          '#FMTNews #FMTEng'}\n"
     ]
    }
   ],
   "source": [
    "# Get all tweets by sentiment\n",
    "sentiment_tweets = queries.get_tweets_by_sentiment(\"Positive\")\n",
    "for t in sentiment_tweets:\n",
    "    pprint.pprint(t)"
   ]
  },
  {
   "cell_type": "markdown",
   "metadata": {},
   "source": [
    "### Most referenced organisations"
   ]
  },
  {
   "cell_type": "code",
   "execution_count": 41,
   "metadata": {},
   "outputs": [
    {
     "name": "stdout",
     "output_type": "stream",
     "text": [
      "Top referenced organizations: [{'organisation': 'Ayer Kuning', 'references': 13}, {'organisation': 'Trump', 'references': 8}, {'organisation': 'Asean', 'references': 5}, {'organisation': 'BN', 'references': 4}, {'organisation': 'Church', 'references': 4}]\n"
     ]
    }
   ],
   "source": [
    "top_orgs = queries.get_most_referenced_organisations(limit=5)\n",
    "print(\"Top referenced organizations:\", top_orgs)"
   ]
  },
  {
   "cell_type": "markdown",
   "metadata": {},
   "source": [
    "### Get tweets about a topic and a location"
   ]
  },
  {
   "cell_type": "code",
   "execution_count": 28,
   "metadata": {},
   "outputs": [],
   "source": [
    "climate_california = queries.get_tweets_by_topic_and_location(\"Climate\", \"California\")\n",
    "for t in climate_california:\n",
    "    print(t)"
   ]
  },
  {
   "cell_type": "code",
   "execution_count": 43,
   "metadata": {},
   "outputs": [
    {
     "name": "stdout",
     "output_type": "stream",
     "text": [
      "Overall sentiment distribution: [{'sentiment': 'Negative', 'count': 111}, {'sentiment': 'Neutral', 'count': 101}, {'sentiment': 'Positive', 'count': 88}]\n"
     ]
    }
   ],
   "source": [
    "sentiment_counts = queries.sentiment_distribution()\n",
    "print(\"Overall sentiment distribution:\", sentiment_counts)"
   ]
  },
  {
   "cell_type": "code",
   "execution_count": 44,
   "metadata": {},
   "outputs": [],
   "source": [
    "handler.close()"
   ]
  },
  {
   "cell_type": "code",
   "execution_count": null,
   "metadata": {},
   "outputs": [],
   "source": []
  }
 ],
 "metadata": {
  "kernelspec": {
   "display_name": ".venv",
   "language": "python",
   "name": "python3"
  },
  "language_info": {
   "codemirror_mode": {
    "name": "ipython",
    "version": 3
   },
   "file_extension": ".py",
   "mimetype": "text/x-python",
   "name": "python",
   "nbconvert_exporter": "python",
   "pygments_lexer": "ipython3",
   "version": "3.9.6"
  }
 },
 "nbformat": 4,
 "nbformat_minor": 2
}
