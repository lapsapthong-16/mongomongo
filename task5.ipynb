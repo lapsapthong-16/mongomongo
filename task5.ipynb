{
 "cells": [
  {
   "cell_type": "markdown",
   "metadata": {},
   "source": [
    "Author: Edwina Hon Kai Xin"
   ]
  },
  {
   "cell_type": "code",
   "execution_count": 1,
   "metadata": {},
   "outputs": [],
   "source": [
    "# # Author: Edwina Hon Kai Xin\n",
    "# from graph.neo4j_driver import Neo4jConnection\n",
    "# from graph.tweet_graph_builder import TweetGraphBuilder\n",
    "\n",
    "# # Set up connection without passing parameters (using defaults from neo4j_driver.py)\n",
    "# neo4j_conn = Neo4jConnection()\n",
    "# builder = TweetGraphBuilder(neo4j_conn)\n",
    "\n",
    "# # Example data\n",
    "# tweet = \"Tourism is booming!\"\n",
    "# sentiment = \"Positive\"\n",
    "# source = \"The Star\"\n",
    "\n",
    "# # Build graph\n",
    "# builder.create_tweet_graph(tweet, sentiment, source)"
   ]
  },
  {
   "cell_type": "code",
   "execution_count": 1,
   "metadata": {},
   "outputs": [],
   "source": [
    "from graph.neo4j_handler import Neo4jHandler\n",
    "\n",
    "neo = Neo4jHandler()"
   ]
  },
  {
   "cell_type": "code",
   "execution_count": 7,
   "metadata": {},
   "outputs": [
    {
     "name": "stdout",
     "output_type": "stream",
     "text": [
      "success\n"
     ]
    }
   ],
   "source": [
    "from graph.entity_extractor import EntityExtractor\n",
    "from de_classes.tweet_validation import TweetValidator\n",
    "import json\n",
    "\n",
    "# Load data\n",
    "with open(\"data/full_sentiments.json\", \"r\") as f:\n",
    "    data = [json.loads(line) for line in f]\n",
    "\n",
    "# Validate\n",
    "validator = TweetValidator()\n",
    "data = validator.filter_valid(data)\n",
    "print('success')\n",
    "# Init\n",
    "extractor = EntityExtractor()\n",
    "\n",
    "\n",
    "# Loop through tweets\n",
    "for tweet in data[:100]:  # limit if testing\n",
    "    entities = extractor.extract_entities(tweet[\"Tweet\"])\n",
    "    neo.insert_tweet_graph(\n",
    "        tweet_text=tweet[\"Tweet\"],\n",
    "        sentiment=tweet[\"sentiment\"],\n",
    "        source=tweet[\"name\"],\n",
    "        entities=entities\n",
    "    )\n",
    "\n",
    "neo.close()"
   ]
  },
  {
   "cell_type": "code",
   "execution_count": null,
   "metadata": {},
   "outputs": [],
   "source": [
    "// Tweets about a topic\n",
    "MATCH (t:Tweet)-[:TAGGED_AS]->(tp:Topic {name: \"dengue\"})\n",
    "RETURN t.text, t.sentiment\n",
    "\n",
    "// Locations with most tweets\n",
    "MATCH (t:Tweet)-[:ABOUT]->(l:Location)\n",
    "RETURN l.name, count(t) as total\n",
    "ORDER BY total DESC\n",
    "\n",
    "// Who’s talking about what?\n",
    "MATCH (p:Person)<-[:MENTIONS]-(t:Tweet)-[:TAGGED_AS]->(tp:Topic)\n",
    "RETURN p.name, tp.name "
   ]
  },
  {
   "cell_type": "markdown",
   "metadata": {},
   "source": [
    "You could model:\n",
    "\t•\t(:Tweet) nodes\n",
    "\t•\t(:Source) nodes (like “The Star”)\n",
    "\t•\t(:Sentiment) nodes\n",
    "\t•\t(:Keyword) nodes (from keyword extraction, optional)\n",
    "\n",
    "And relationships like:\n",
    "\t•\t(:Source)-[:POSTED]->(:Tweet)\n",
    "\t•\t(:Tweet)-[:HAS_SENTIMENT]->(:Sentiment)\n",
    "\t•\t(:Tweet)-[:MENTIONS]->(:Keyword)"
   ]
  },
  {
   "cell_type": "markdown",
   "metadata": {},
   "source": []
  }
 ],
 "metadata": {
  "kernelspec": {
   "display_name": ".venv",
   "language": "python",
   "name": "python3"
  },
  "language_info": {
   "codemirror_mode": {
    "name": "ipython",
    "version": 3
   },
   "file_extension": ".py",
   "mimetype": "text/x-python",
   "name": "python",
   "nbconvert_exporter": "python",
   "pygments_lexer": "ipython3",
   "version": "3.9.6"
  }
 },
 "nbformat": 4,
 "nbformat_minor": 2
}
