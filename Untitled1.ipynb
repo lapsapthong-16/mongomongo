{
 "cells": [
  {
   "cell_type": "code",
   "execution_count": 13,
   "id": "0781646b-1873-4e07-b143-75e9e457659c",
   "metadata": {},
   "outputs": [
    {
     "ename": "ImportError",
     "evalue": "cannot import name 'fetch_tweet_title' from 'data.fetch_tweet_title' (/Users/zwavo/mongomongo/data/fetch_tweet_title.py)",
     "output_type": "error",
     "traceback": [
      "\u001b[0;31m---------------------------------------------------------------------------\u001b[0m",
      "\u001b[0;31mImportError\u001b[0m                               Traceback (most recent call last)",
      "Cell \u001b[0;32mIn[13], line 1\u001b[0m\n\u001b[0;32m----> 1\u001b[0m \u001b[38;5;28;01mfrom\u001b[39;00m \u001b[38;5;21;01mdata\u001b[39;00m\u001b[38;5;21;01m.\u001b[39;00m\u001b[38;5;21;01mfetch_tweet_title\u001b[39;00m \u001b[38;5;28;01mimport\u001b[39;00m fetch_tweet_title\n\u001b[1;32m      2\u001b[0m \u001b[38;5;28;01mfrom\u001b[39;00m \u001b[38;5;21;01mdata\u001b[39;00m\u001b[38;5;21;01m.\u001b[39;00m\u001b[38;5;21;01mget_tweet_userID\u001b[39;00m \u001b[38;5;28;01mimport\u001b[39;00m get_tweet_userID\n\u001b[1;32m      3\u001b[0m \u001b[38;5;28;01mfrom\u001b[39;00m \u001b[38;5;21;01mdata\u001b[39;00m\u001b[38;5;21;01m.\u001b[39;00m\u001b[38;5;21;01mkafka_consumer\u001b[39;00m \u001b[38;5;28;01mimport\u001b[39;00m kafka_consu\n",
      "\u001b[0;31mImportError\u001b[0m: cannot import name 'fetch_tweet_title' from 'data.fetch_tweet_title' (/Users/zwavo/mongomongo/data/fetch_tweet_title.py)"
     ]
    }
   ],
   "source": [
    "from data.fetch_tweet_title import fetch_tweet_title\n",
    "from data.get_tweet_userID import get_tweet_userID\n",
    "from data.kafka_consumer import kafka_consu\n",
    "from data.kafka_producer import kafka_producer\n",
    "from data.label_data import label_data\n",
    "from data.store_data_to_HDFS import store_data_to_HDFS"
   ]
  },
  {
   "cell_type": "code",
   "execution_count": null,
   "id": "7f6f948d-1c79-4792-bf05-c9d6dcc4a76b",
   "metadata": {},
   "outputs": [],
   "source": [
    "# Import the file directly\n",
    "import sys\n",
    "import os\n",
    "\n",
    "# Add the data directory to the Python path\n",
    "sys.path.append(os.path.join(os.path.dirname(__file__), 'data'))"
   ]
  },
  {
   "cell_type": "code",
   "execution_count": null,
   "id": "d439da0e-7227-45f5-ac3a-090b93a8edba",
   "metadata": {},
   "outputs": [],
   "source": [
    "\n",
    "def get_user_input():\n",
    "    return input(\"Enter the username: \")\n",
    "\n",
    "def main():\n",
    "    # Call the main function from get_tweet_userID\n",
    "    get_user_id()\n",
    "\n",
    "if __name__ == \"__main__\":\n",
    "    main()"
   ]
  },
  {
   "cell_type": "code",
   "execution_count": null,
   "id": "ab623bd1-5038-4857-8b20-b57e181903a1",
   "metadata": {},
   "outputs": [],
   "source": []
  }
 ],
 "metadata": {
  "kernelspec": {
   "display_name": "Python [conda env:base] *",
   "language": "python",
   "name": "conda-base-py"
  },
  "language_info": {
   "codemirror_mode": {
    "name": "ipython",
    "version": 3
   },
   "file_extension": ".py",
   "mimetype": "text/x-python",
   "name": "python",
   "nbconvert_exporter": "python",
   "pygments_lexer": "ipython3",
   "version": "3.12.7"
  }
 },
 "nbformat": 4,
 "nbformat_minor": 5
}
