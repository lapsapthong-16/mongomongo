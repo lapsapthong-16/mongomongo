{
 "cells": [
  {
   "cell_type": "markdown",
   "id": "8bb0bbd7",
   "metadata": {},
   "source": [
    "author: Edwina Hon Kai Xin"
   ]
  },
  {
   "cell_type": "code",
   "execution_count": 1,
   "id": "f5cc7313",
   "metadata": {},
   "outputs": [
    {
     "name": "stdout",
     "output_type": "stream",
     "text": [
      "Successfully loaded 300 records\n"
     ]
    }
   ],
   "source": [
    "from de_classes.data_loader import data_loader\n",
    "import json\n",
    "\n",
    "file = \"data/full_sentiments.json\"\n",
    "\n",
    "try:\n",
    "    data = data_loader.from_json_lines(file)\n",
    "    print(f\"Successfully loaded {len(data)} records\")\n",
    "except AttributeError:\n",
    "    # Method 2: Alternative approach \n",
    "    print(\"Import failed. Trying alternative approach...\")\n",
    "    \n",
    "    # Import the specific file directly\n",
    "    import sys\n",
    "    import os\n",
    "    \n",
    "    # Add the parent directory to the path if needed\n",
    "    current_dir = os.path.dirname(os.getcwd())\n",
    "    if current_dir not in sys.path:\n",
    "        sys.path.append(current_dir)\n",
    "    \n",
    "    # Re-import with the full path\n",
    "    import de_classes.data_loader\n",
    "    # Force reload in case it was previously imported incorrectly\n",
    "    import importlib\n",
    "    importlib.reload(de_classes.data_loader)\n",
    "    \n",
    "    # Try again\n",
    "    data = de_classes.data_loader.data_loader.from_json_lines(file)\n",
    "    print(f\"Successfully loaded {len(data)} records with alternative method\")\n"
   ]
  },
  {
   "cell_type": "code",
   "execution_count": 2,
   "id": "e595f846",
   "metadata": {},
   "outputs": [
    {
     "name": "stdout",
     "output_type": "stream",
     "text": [
      "✅ Valid records: 299\n",
      "❌ Invalid records: 1\n"
     ]
    }
   ],
   "source": [
    "#insert only valid data\n",
    "from de_classes.tweet_validation import TweetValidator\n",
    "\n",
    "validator = TweetValidator()\n",
    "valid_data = validator.filter_valid(data)\n",
    "invalid_data = validator.report_invalid(data)\n",
    "\n",
    "print(f\"✅ Valid records: {len(valid_data)}\")\n",
    "print(f\"❌ Invalid records: {len(invalid_data)}\")"
   ]
  },
  {
   "cell_type": "markdown",
   "id": "0642d16a",
   "metadata": {},
   "source": [
    "## Declaring the connection to MongoDB Atlas"
   ]
  },
  {
   "cell_type": "code",
   "execution_count": 3,
   "id": "52cb5123",
   "metadata": {},
   "outputs": [],
   "source": [
    "from de_classes.pymongo_utils import PyMongoUtils\n",
    "\n",
    "# Initialize your connection\n",
    "mongo_obj = PyMongoUtils()\n",
    "\n",
    "# Define database and collection names\n",
    "mongo_db = \"twitter_sentiment\"  \n",
    "mongo_collection = \"sentiment_analysis\"\n",
    "\n",
    "# Get or create collection\n",
    "collection = mongo_obj.get_collection(mongo_db, mongo_collection)\n"
   ]
  },
  {
   "cell_type": "code",
   "execution_count": 4,
   "id": "05cae055",
   "metadata": {},
   "outputs": [
    {
     "name": "stdout",
     "output_type": "stream",
     "text": [
      "Data inserted successfully to MongoDB Atlas!\n"
     ]
    }
   ],
   "source": [
    "\n",
    "from de_classes.sentiment_insertion import sentiment_insertion\n",
    "\n",
    "try:\n",
    "    # Insert data \n",
    "    inserter = sentiment_insertion(collection)\n",
    "    inserter.insert_many(valid_data)\n",
    "    print(\"Data inserted successfully to MongoDB Atlas!\")\n",
    "    \n",
    "except Exception as e:\n",
    "    print(f\"Error connecting to MongoDB Atlas: {e}\")\n",
    "    print(\"Please check your internet connection and verify the connection string.\")\n",
    "\n"
   ]
  },
  {
   "cell_type": "markdown",
   "id": "402cd309",
   "metadata": {},
   "source": [
    "# Querying Section"
   ]
  },
  {
   "cell_type": "code",
   "execution_count": 5,
   "id": "349b5e5d",
   "metadata": {},
   "outputs": [
    {
     "data": {
      "text/plain": [
       "'sentiment_1'"
      ]
     },
     "execution_count": 5,
     "metadata": {},
     "output_type": "execute_result"
    }
   ],
   "source": [
    "collection.create_index(\"sentiment\")"
   ]
  },
  {
   "cell_type": "markdown",
   "id": "ddd549d2",
   "metadata": {},
   "source": [
    "### Find by sentiment"
   ]
  },
  {
   "cell_type": "code",
   "execution_count": 6,
   "id": "d9b47f10",
   "metadata": {},
   "outputs": [],
   "source": [
    "from de_classes.sentiment_query import sentiment_query\n",
    "\n",
    "# Initialize the query object\n",
    "query = sentiment_query(collection)"
   ]
  },
  {
   "cell_type": "code",
   "execution_count": 7,
   "id": "1308a6df",
   "metadata": {},
   "outputs": [
    {
     "name": "stdout",
     "output_type": "stream",
     "text": [
      "Found 2 tweets mentioning 'tourism'\n",
      "{'_id': ObjectId('67f7e2f712f262f491ee0b75'), 'Tweet': 'According to Widiyanti, the tourism sector, classified as a service industry, is not subject to such tariffs and continues to generate foreign exchange.', 'prediction': 0.0, 'sentiment': 'Neutral', 'name': 'The Star'}\n",
      "{'_id': ObjectId('67fa090125466407db701a88'), 'Tweet': 'According to Widiyanti, the tourism sector, classified as a service industry, is not subject to such tariffs and continues to generate foreign exchange.', 'prediction': 0.0, 'sentiment': 'Neutral', 'name': 'The Star'}\n"
     ]
    }
   ],
   "source": [
    "\n",
    "try:\n",
    "\n",
    "    # Get tweets that mentionining \"keyword\"\n",
    "    tourism_tweets = query.search_tweets(\"tourism\")\n",
    "    print(f\"Found {len(tourism_tweets)} tweets mentioning 'tourism'\")\n",
    "    \n",
    "    # print a sample:\n",
    "    for tweet in tourism_tweets[:99]:\n",
    "        print(tweet)\n",
    "\n",
    "except Exception as e:\n",
    "    print(f\"Error connecting to MongoDB Atlas: {e}\")\n",
    "    print(\"Unable to query data\")"
   ]
  },
  {
   "cell_type": "markdown",
   "id": "2e698d66",
   "metadata": {},
   "source": [
    "### Aggregate by Sentiment and Source"
   ]
  },
  {
   "cell_type": "code",
   "execution_count": 8,
   "id": "434db2c1",
   "metadata": {},
   "outputs": [
    {
     "name": "stdout",
     "output_type": "stream",
     "text": [
      "Tweet count by sentiment and source:\n",
      "Neutral: 54 tweets from Free Malaysia Today\n",
      "Negative: 54 tweets from malaysiakini.com\n",
      "Negative: 50 tweets from New Straits Times\n",
      "Neutral: 48 tweets from The Star\n",
      "Positive: 48 tweets from Herald Malaysia\n",
      "Positive: 46 tweets from theSun\n",
      "Negative: 42 tweets from Free Malaysia Today\n",
      "Negative: 36 tweets from theSun\n",
      "Neutral: 34 tweets from Herald Malaysia\n",
      "Negative: 26 tweets from The Star\n",
      "Positive: 26 tweets from The Star\n",
      "Positive: 26 tweets from New Straits Times\n",
      "Positive: 26 tweets from malaysiakini.com\n",
      "Neutral: 24 tweets from New Straits Times\n",
      "Neutral: 20 tweets from malaysiakini.com\n",
      "Neutral: 18 tweets from theSun\n",
      "Negative: 16 tweets from Herald Malaysia\n",
      "Positive: 4 tweets from Free Malaysia Today\n",
      "Unknown: 1 tweets from Herald Malaysia\n"
     ]
    }
   ],
   "source": [
    "counter = query.count_by_sentiment_and_source()\n",
    "print(\"Tweet count by sentiment and source:\")\n",
    "for entry in counter:\n",
    "    print(f\"{entry['_id']['sentiment']}: {entry['count']} tweets from {entry['_id']['source']}\")\n"
   ]
  },
  {
   "cell_type": "markdown",
   "id": "1ef43543",
   "metadata": {},
   "source": [
    "### Find by prediction"
   ]
  },
  {
   "cell_type": "code",
   "execution_count": 14,
   "id": "fefbc1c5",
   "metadata": {},
   "outputs": [
    {
     "name": "stdout",
     "output_type": "stream",
     "text": [
      "Found 242 tweets with prediction 0\n",
      "{'_id': ObjectId('67f7e2f712f262f491ee0b74'), 'Tweet': '#Singapore Lee: “This is going to affect our trade, it’s going to affect our economy, it’s going to affect our region, and it’s going to affect our future. And it’s not good news.”', 'prediction': 0.0, 'sentiment': 'Negative', 'name': 'The Star'}\n",
      "{'_id': ObjectId('67f7e2f712f262f491ee0b75'), 'Tweet': 'According to Widiyanti, the tourism sector, classified as a service industry, is not subject to such tariffs and continues to generate foreign exchange.', 'prediction': 0.0, 'sentiment': 'Neutral', 'name': 'The Star'}\n",
      "{'_id': ObjectId('67f7e2f712f262f491ee0b77'), 'Tweet': 'Abdul Rais noted that the global economy is currently experiencing a \"tariff war” and that the US remains a major trading partner for Malaysia.', 'prediction': 0.0, 'sentiment': 'Neutral', 'name': 'The Star'}\n",
      "{'_id': ObjectId('67f7e2f712f262f491ee0b78'), 'Tweet': '#NSTnation  \"Our economy remains resilient,\" Anwar said in a televised broadcast tonight.', 'prediction': 0.0, 'sentiment': 'Neutral', 'name': 'New Straits Times'}\n",
      "{'_id': ObjectId('67f7e2f712f262f491ee0b79'), 'Tweet': '#NSTnation Pensioner loses over RM700,000, becomes victim of non-existent investment', 'prediction': 0.0, 'sentiment': 'Negative', 'name': 'New Straits Times'}\n",
      "{'_id': ObjectId('67f7e2f712f262f491ee0b7a'), 'Tweet': \"#NSTworld Artist of 'distorted' portrait says Trump complaint harming business\", 'prediction': 0.0, 'sentiment': 'Negative', 'name': 'New Straits Times'}\n",
      "{'_id': ObjectId('67f7e2f712f262f491ee0b7b'), 'Tweet': '“We will provide immediate assistance in the form of cash if any of them have lost or had their bank cards destroyed in the incident, and the rest will be done via online transfers', 'prediction': 0.0, 'sentiment': 'Negative', 'name': 'theSun'}\n",
      "{'_id': ObjectId('67f7e2f712f262f491ee0b7c'), 'Tweet': 'Rakibul Alam Chowdhury, chairman of RDM Group, a major manufacturer with an estimated $25 million turnover, said on Thursday that the industry would lose trade.\\n#theSunMY #WorldNews #garment #Bangladesh', 'prediction': 0.0, 'sentiment': 'Negative', 'name': 'theSun'}\n",
      "{'_id': ObjectId('67f7e2f712f262f491ee0b7d'), 'Tweet': '“The victim made investments in stages in seven transactions to four different bank accounts and was informed of the profits made. However, she claimed that she was not allowed to make any withdrawals, “ he said in a statement today.', 'prediction': 0.0, 'sentiment': 'Positive', 'name': 'theSun'}\n",
      "{'_id': ObjectId('67f7e2f712f262f491ee0b7e'), 'Tweet': 'He explained that the victim clicked on the link provided and was added to a WhatsApp group named after an investment company.', 'prediction': 0.0, 'sentiment': 'Negative', 'name': 'theSun'}\n",
      "{'_id': ObjectId('67f7e2f712f262f491ee0b7f'), 'Tweet': 'Still room for talks with US on 24% tariff, says Bank Negara   #FMTNews  #FMTEng', 'prediction': 0.0, 'sentiment': 'Neutral', 'name': 'Free Malaysia Today'}\n",
      "{'_id': ObjectId('67f7e2f712f262f491ee0b80'), 'Tweet': 'Economy won’t go into recession, says\\xa0Anwar #FMTNews #FMTEng', 'prediction': 0.0, 'sentiment': 'Negative', 'name': 'Free Malaysia Today'}\n",
      "{'_id': ObjectId('67f7e2f712f262f491ee0b81'), 'Tweet': 'US, Vietnamese businesses ask Trump to delay 46% tariffs on Vietnam  #FMTNews #FMTBusiness', 'prediction': 0.0, 'sentiment': 'Negative', 'name': 'Free Malaysia Today'}\n",
      "{'_id': ObjectId('67f7e2f712f262f491ee0b82'), 'Tweet': 'The Archbishop of Seoul expressed support for two social outreach  programs serving the homeless during a pastoral visit to Namdaemun  Market Quasi-Parish on April 2.', 'prediction': 0.0, 'sentiment': 'Positive', 'name': 'Herald Malaysia'}\n",
      "{'_id': ObjectId('67f7e2f712f262f491ee0b85'), 'Tweet': 'Compared to standard surgery, researchers said the new method could dramatically improve men’s quality of life.', 'prediction': 0.0, 'sentiment': 'Positive', 'name': 'The Star'}\n",
      "{'_id': ObjectId('67f7e2f712f262f491ee0b86'), 'Tweet': '#Singapore Preliminary investigations showed that the man is believed to be involved in several shop theft cases involving items such as watches, shirts, chocolates, and accessories from four other shops.', 'prediction': 0.0, 'sentiment': 'Neutral', 'name': 'The Star'}\n",
      "{'_id': ObjectId('67f7e2f712f262f491ee0b87'), 'Tweet': 'Antonelli: \"It was not bad. What I\\'m most happy about today is the confidence I had in the car and the confidence to push, which I didn\\'t have on Friday and the start of Saturday.\"', 'prediction': 0.0, 'sentiment': 'Positive', 'name': 'The Star'}\n",
      "{'_id': ObjectId('67f7e2f712f262f491ee0b88'), 'Tweet': \"#NSTnation  There is currently no need to reveal the names of the contractors allegedly involved in the Putra Heights gas pipeline fire, says Selangor's top cop.\", 'prediction': 0.0, 'sentiment': 'Negative', 'name': 'New Straits Times'}\n",
      "{'_id': ObjectId('67f7e2f712f262f491ee0b89'), 'Tweet': 'Man slammed for filming drowning child Instead of offering help', 'prediction': 0.0, 'sentiment': 'Positive', 'name': 'malaysiakini.com'}\n",
      "{'_id': ObjectId('67f7e2f712f262f491ee0b8a'), 'Tweet': 'Hussein said the road, which crosses the Petronas gas pipeline, had been approved for excavation work to be carried out by the contractor', 'prediction': 0.0, 'sentiment': 'Positive', 'name': 'theSun'}\n",
      "{'_id': ObjectId('67f7e2f712f262f491ee0b8b'), 'Tweet': 'The Cardinal Newman Centre of Cultural and Performance Arts marked  its fifth anniversary with a joint exhibition celebrating Chinese  calligraphy and the legacy of Catholic printing in Macau.', 'prediction': 0.0, 'sentiment': 'Positive', 'name': 'Herald Malaysia'}\n",
      "{'_id': ObjectId('67f7e2f712f262f491ee0b8c'), 'Tweet': \"The soon-to-be saint's passion for the Eucharist and his work cataloging miracles featured in a new song and video\", 'prediction': 0.0, 'sentiment': 'Positive', 'name': 'Herald Malaysia'}\n",
      "{'_id': ObjectId('67f7e2f712f262f491ee0b8d'), 'Tweet': 'The great pontiff who visited India twice is remembered with a  Mass in the Cathedral of the Holy Name of Jesus. “Pope John Paul II was a  prophet, he showed a far-sighted vision,” said Card Gracias.', 'prediction': 0.0, 'sentiment': 'Positive', 'name': 'Herald Malaysia'}\n",
      "{'_id': ObjectId('67f7e2f712f262f491ee0b8e'), 'Tweet': 'As dawn breaks, 46-year-old R. Mudiyansalage Ramyalatha begins her day with Marian devotion by lighting an oil lamp, marking the start of her sacred ritual.', 'prediction': 0.0, 'sentiment': 'Positive', 'name': 'Herald Malaysia'}\n",
      "{'_id': ObjectId('67f7e2f712f262f491ee0b8f'), 'Tweet': '#Thailand Chadchart stated that the official death toll would be announced by the police to avoid confusion.', 'prediction': 0.0, 'sentiment': 'Negative', 'name': 'The Star'}\n",
      "{'_id': ObjectId('67f7e2f712f262f491ee0b90'), 'Tweet': 'Le Pen: \"Our fight will be a peaceful fight, a democratic fight. We will follow Martin Luther King, who defended civil rights, as an example.\"', 'prediction': 0.0, 'sentiment': 'Negative', 'name': 'The Star'}\n",
      "{'_id': ObjectId('67f7e2f712f262f491ee0b91'), 'Tweet': 'The survivors suffered hypothermia, as their body temperatures dropped abnormally, but were conscious.', 'prediction': 0.0, 'sentiment': 'Negative', 'name': 'The Star'}\n",
      "{'_id': ObjectId('67f7e2f712f262f491ee0b92'), 'Tweet': 'The number of victims in the flash flood at Kampung Baharu, Sri Gading, near Batu Pahat, increased on Sunday (April 6) morning.\\n\\nRead more at', 'prediction': 0.0, 'sentiment': 'Neutral', 'name': 'The Star'}\n",
      "{'_id': ObjectId('67f7e2f712f262f491ee0b93'), 'Tweet': 'Two men escaped unhurt from the second floor of a prayer paraphernalia shop in Johor Baru when it went up in flames.\\n\\nRead more at', 'prediction': 0.0, 'sentiment': 'Neutral', 'name': 'The Star'}\n",
      "{'_id': ObjectId('67f7e2f712f262f491ee0b94'), 'Tweet': \"Decisions, decisions.\\n\\nFor more CW Kee comics, check out Kee's World here!\", 'prediction': 0.0, 'sentiment': 'Neutral', 'name': 'The Star'}\n",
      "{'_id': ObjectId('67f7e2f712f262f491ee0b96'), 'Tweet': 'These tremors, ranging in magnitude from 2.8 to 7.5, followed the 7.9-magnitude earthquake that hit Myanmar at 12.51 pm local time on March 28.', 'prediction': 0.0, 'sentiment': 'Neutral', 'name': 'The Star'}\n",
      "{'_id': ObjectId('67f7e2f712f262f491ee0b97'), 'Tweet': 'The rate of nicotine addiction among people aged 20-59 increased from 19% in 2021 to 24.4%.', 'prediction': 0.0, 'sentiment': 'Positive', 'name': 'The Star'}\n",
      "{'_id': ObjectId('67f7e2f712f262f491ee0b98'), 'Tweet': \"Find out what's happening around Klang Valley here.\", 'prediction': 0.0, 'sentiment': 'Neutral', 'name': 'The Star'}\n",
      "{'_id': ObjectId('67f7e2f712f262f491ee0b99'), 'Tweet': 'Sora (which means “sky” in Japanese) is the highest sky bar in the Cambodian capital, perched on a cantilevered terrace on the 37th floor of Rosewood Phnom Penh.', 'prediction': 0.0, 'sentiment': 'Neutral', 'name': 'The Star'}\n",
      "{'_id': ObjectId('67f7e2f712f262f491ee0b9a'), 'Tweet': 'The helicopter had been deployed to help extinguish a fire in the Seobyeon-dong area, which had erupted earlier that afternoon.', 'prediction': 0.0, 'sentiment': 'Positive', 'name': 'The Star'}\n",
      "{'_id': ObjectId('67f7e2f712f262f491ee0b9d'), 'Tweet': '\"Love, sacrifice, family, gratitude – these are values that transcend ethnicity and religion. These are the things we all celebrate.\" - Dzof Azmi', 'prediction': 0.0, 'sentiment': 'Positive', 'name': 'The Star'}\n",
      "{'_id': ObjectId('67f7e2f712f262f491ee0b9e'), 'Tweet': 'Selangor police chief Comm Datuk Hussein Omar Khan said the ground remained unstable due to the explosion and recent rainfall, delaying the investigation.', 'prediction': 0.0, 'sentiment': 'Negative', 'name': 'The Star'}\n",
      "{'_id': ObjectId('67f7e2f712f262f491ee0b9f'), 'Tweet': 'Cool.✨', 'prediction': 0.0, 'sentiment': 'Positive', 'name': 'The Star'}\n",
      "{'_id': ObjectId('67f7e2f712f262f491ee0ba0'), 'Tweet': 'The Foreign Affairs Ministry said all five individuals sustained minor injuries and have since been discharged from hospital and returned to their hotel.', 'prediction': 0.0, 'sentiment': 'Neutral', 'name': 'The Star'}\n",
      "{'_id': ObjectId('67f7e2f712f262f491ee0ba1'), 'Tweet': 'In the Voronezh region, the attack damaged a gas distribution pipeline.', 'prediction': 0.0, 'sentiment': 'Negative', 'name': 'The Star'}\n",
      "{'_id': ObjectId('67f7e2f712f262f491ee0ba3'), 'Tweet': 'Comm Hussein added that 25 houses were found to be completely destroyed.', 'prediction': 0.0, 'sentiment': 'Negative', 'name': 'The Star'}\n",
      "{'_id': ObjectId('67f7e2f712f262f491ee0ba5'), 'Tweet': 'Tumpat Police Chief Mohd Khairi Shafie stated that initial investigations revealed the two teenagers, aged 17 and 16, were travelling from Pasir Pekan to Pasir Mas.', 'prediction': 0.0, 'sentiment': 'Neutral', 'name': 'The Star'}\n",
      "{'_id': ObjectId('67f7e2f712f262f491ee0ba6'), 'Tweet': 'The Pope had been out of public view since March 23.', 'prediction': 0.0, 'sentiment': 'Neutral', 'name': 'The Star'}\n",
      "{'_id': ObjectId('67f7e2f712f262f491ee0ba7'), 'Tweet': 'March alone saw over 2.05 million international arrivals, a rise of 28.5 per cent year-over-year.', 'prediction': 0.0, 'sentiment': 'Negative', 'name': 'The Star'}\n",
      "{'_id': ObjectId('67f7e2f712f262f491ee0ba8'), 'Tweet': 'ACP Christopher noted that the teenager has a speech disorder due to her disability and did not have a mobile phone with her when she went missing.', 'prediction': 0.0, 'sentiment': 'Negative', 'name': 'The Star'}\n",
      "{'_id': ObjectId('67f7e2f712f262f491ee0ba9'), 'Tweet': 'Cops searching for driver linked to missing disabled teen in Melaka', 'prediction': 0.0, 'sentiment': 'Negative', 'name': 'The Star'}\n",
      "{'_id': ObjectId('67f7e2f712f262f491ee0baa'), 'Tweet': 'GGWP, Qabil!', 'prediction': 0.0, 'sentiment': 'Neutral', 'name': 'The Star'}\n",
      "{'_id': ObjectId('67f7e2f712f262f491ee0bab'), 'Tweet': 'Selangor police chief Comm Datuk Hussein Omar Khan added that the focus now is towards the cause of the incident.', 'prediction': 0.0, 'sentiment': 'Neutral', 'name': 'The Star'}\n",
      "{'_id': ObjectId('67f7e2f712f262f491ee0bac'), 'Tweet': 'Hilmi said on average, 200 metric tonnes of garbage was collected every day before the festive season, but the figure increased to 400 metric tonnes per day during the festive season.', 'prediction': 0.0, 'sentiment': 'Positive', 'name': 'The Star'}\n",
      "{'_id': ObjectId('67f7e2f712f262f491ee0bad'), 'Tweet': 'It was previously reported that earthworks were being conducted to replace an existing sewage pipe located approximately 30m from the point of the explosion.', 'prediction': 0.0, 'sentiment': 'Neutral', 'name': 'The Star'}\n",
      "{'_id': ObjectId('67f7e2f712f262f491ee0bae'), 'Tweet': 'The Sabah Disaster Management Committee Secretariat stated that all victims are being accommodated at the Sekolah Kebangsaan Bukit Garam relief centre.', 'prediction': 0.0, 'sentiment': 'Negative', 'name': 'The Star'}\n",
      "{'_id': ObjectId('67f7e2f712f262f491ee0baf'), 'Tweet': 'From luxurious foot creams to soothing body cleansers, oils and lotions, each formula is crafted to pamper, hydrate, and rejuvenate.  💅✨', 'prediction': 0.0, 'sentiment': 'Positive', 'name': 'The Star'}\n",
      "{'_id': ObjectId('67f7e2f712f262f491ee0bb0'), 'Tweet': 'Two of the victims, aged 29 and 37, died at the scene, while the foreign worker from Indonesia died at the hospital.', 'prediction': 0.0, 'sentiment': 'Negative', 'name': 'The Star'}\n",
      "{'_id': ObjectId('67f7e2f712f262f491ee0bb1'), 'Tweet': 'Putra Heights inferno: Authorities use loaned gas detectors to conduct thorough probe', 'prediction': 0.0, 'sentiment': 'Neutral', 'name': 'The Star'}\n",
      "{'_id': ObjectId('67f7e2f712f262f491ee0bb2'), 'Tweet': 'Warisan lodges report over TikTok video defaming Shafie', 'prediction': 0.0, 'sentiment': 'Neutral', 'name': 'The Star'}\n",
      "{'_id': ObjectId('67f7e2f712f262f491ee0bb3'), 'Tweet': 'Major highways into Klang Valley congested as city folk return home', 'prediction': 0.0, 'sentiment': 'Neutral', 'name': 'The Star'}\n",
      "{'_id': ObjectId('67f7e2f712f262f491ee0bb4'), 'Tweet': '#NSTnation Malaysia, Vietnam call for Asean unity on Myanmar and US tariffs', 'prediction': 0.0, 'sentiment': 'Neutral', 'name': 'New Straits Times'}\n",
      "{'_id': ObjectId('67f7e2f712f262f491ee0bb5'), 'Tweet': '#NSTworld Australian police arrest, charge man for attempting to open doors mid-flight', 'prediction': 0.0, 'sentiment': 'Negative', 'name': 'New Straits Times'}\n",
      "{'_id': ObjectId('67f7e2f712f262f491ee0bb8'), 'Tweet': '#NSTnation  Anwar also refuted the US claim that Malaysia imposed a 47 per cent tariff on US imports.', 'prediction': 0.0, 'sentiment': 'Negative', 'name': 'New Straits Times'}\n",
      "{'_id': ObjectId('67f7e2f712f262f491ee0bb9'), 'Tweet': '#NSTnation  Chow said two years ago, Penang faced a similar situation when an encroachment took place near a natural gas power plant in Perai, where a place of worship was illegally constructed in the area.', 'prediction': 0.0, 'sentiment': 'Positive', 'name': 'New Straits Times'}\n",
      "{'_id': ObjectId('67f7e2f712f262f491ee0bba'), 'Tweet': '#NSTnation Traffic congestion reported on major highways as Raya travellers head home', 'prediction': 0.0, 'sentiment': 'Neutral', 'name': 'New Straits Times'}\n",
      "{'_id': ObjectId('67f7e2f712f262f491ee0bbb'), 'Tweet': \"#NSTnation 'Challenging' US tariffs: Govt prepared to address and mitigate, PM assures\", 'prediction': 0.0, 'sentiment': 'Positive', 'name': 'New Straits Times'}\n",
      "{'_id': ObjectId('67f7e2f712f262f491ee0bbc'), 'Tweet': \"#NSTworld From teacher to millionaire… Kuwait govt paid 'suspended expatriate' RM1.5 million in salary over 19 years\", 'prediction': 0.0, 'sentiment': 'Negative', 'name': 'New Straits Times'}\n",
      "{'_id': ObjectId('67f7e2f712f262f491ee0bbe'), 'Tweet': '#NSTnation Three men, including an Indonesian national, died after being trapped in a sewer hole at a resort under construction in Kampung Ibol, Sumpitan, this morning.', 'prediction': 0.0, 'sentiment': 'Negative', 'name': 'New Straits Times'}\n",
      "{'_id': ObjectId('67f7e2f712f262f491ee0bbf'), 'Tweet': '#NSTnation [UPDATED] Five Malaysians injured in Tokyo tour bus crash', 'prediction': 0.0, 'sentiment': 'Negative', 'name': 'New Straits Times'}\n",
      "{'_id': ObjectId('67f7e2f712f262f491ee0bc0'), 'Tweet': '#NSTworld Missile strike on Kyiv damaged offices of state broadcasters', 'prediction': 0.0, 'sentiment': 'Negative', 'name': 'New Straits Times'}\n",
      "{'_id': ObjectId('67f7e2f712f262f491ee0bc1'), 'Tweet': \"#NSTnation Dutch trekker's death in Taman Negara due to heart condition, post-mortem reveals\", 'prediction': 0.0, 'sentiment': 'Positive', 'name': 'New Straits Times'}\n",
      "{'_id': ObjectId('67f7e2f712f262f491ee0bc2'), 'Tweet': '#NSTnation  Disabled girl missing after visit to playground', 'prediction': 0.0, 'sentiment': 'Negative', 'name': 'New Straits Times'}\n",
      "{'_id': ObjectId('67f7e2f712f262f491ee0bc3'), 'Tweet': '#NSTnation  Saifuddin demands apology over defamatory FB post linking him to Kedah FC raid', 'prediction': 0.0, 'sentiment': 'Positive', 'name': 'New Straits Times'}\n",
      "{'_id': ObjectId('67f7e2f712f262f491ee0bc4'), 'Tweet': '#NSTnation Two teenagers killed while performing dangerous motorcycle stunt', 'prediction': 0.0, 'sentiment': 'Negative', 'name': 'New Straits Times'}\n",
      "{'_id': ObjectId('67f7e2f712f262f491ee0bc5'), 'Tweet': '#NSTnation Traffic diversion for Putra Heights blast site', 'prediction': 0.0, 'sentiment': 'Neutral', 'name': 'New Straits Times'}\n",
      "{'_id': ObjectId('67f7e2f712f262f491ee0bc6'), 'Tweet': '#NSTnation Putra Heights blast: 118 witnesses quizzed, no link to fireworks - Police', 'prediction': 0.0, 'sentiment': 'Negative', 'name': 'New Straits Times'}\n",
      "{'_id': ObjectId('67f7e2f712f262f491ee0bc7'), 'Tweet': '#NSTnation Authorities intensify efforts to bring perpetrators of elephant killing in Sabah to justice', 'prediction': 0.0, 'sentiment': 'Negative', 'name': 'New Straits Times'}\n",
      "{'_id': ObjectId('67f7e2f712f262f491ee0bc8'), 'Tweet': '#NSTnation Many shophouses in the Padungan area here were built between the 1920s and 1930s during the rule of Sir Charles Vyner Brooke, the then Rajah of Sarawak.', 'prediction': 0.0, 'sentiment': 'Neutral', 'name': 'New Straits Times'}\n",
      "{'_id': ObjectId('67f7e2f712f262f491ee0bc9'), 'Tweet': '#NSTnation MRT services along the Kajang Line are experiencing delays after branches fell on the tracks between the Phileo Damansara and Kajang stations.', 'prediction': 0.0, 'sentiment': 'Neutral', 'name': 'New Straits Times'}\n",
      "{'_id': ObjectId('67f7e2f712f262f491ee0bca'), 'Tweet': '#NSTnation The Malaysian Meteorological Department (MetMalaysia) has issued a warning for thunderstorms and heavy rain across most states until 7pm today.', 'prediction': 0.0, 'sentiment': 'Negative', 'name': 'New Straits Times'}\n",
      "{'_id': ObjectId('67f7e2f712f262f491ee0bcb'), 'Tweet': '#NSTnation The Putra Heights gas pipeline blaze on Tuesday destroyed Nurul Liyana Izzatis personal belongings, including books, laptops, and her matrix card.', 'prediction': 0.0, 'sentiment': 'Negative', 'name': 'New Straits Times'}\n",
      "{'_id': ObjectId('67f7e2f712f262f491ee0bcc'), 'Tweet': '#NSTnation Sheet pile installation will be carried out to stabilise the ground at the site of the gas pipeline fire in Putra Heights before technical investigations into the incident can begin.', 'prediction': 0.0, 'sentiment': 'Negative', 'name': 'New Straits Times'}\n",
      "{'_id': ObjectId('67f7e2f712f262f491ee0bcd'), 'Tweet': '#NSTnation Selangor police chief Datuk Hussein Omar Khan said the excavation works to replace the sewer pipes were carried out with the necessary approval.', 'prediction': 0.0, 'sentiment': 'Positive', 'name': 'New Straits Times'}\n",
      "{'_id': ObjectId('67f7e2f712f262f491ee0bce'), 'Tweet': '#NSTnation Balloon vendor to sue DBKL over street brawl', 'prediction': 0.0, 'sentiment': 'Neutral', 'name': 'New Straits Times'}\n",
      "{'_id': ObjectId('67f7e2f712f262f491ee0bcf'), 'Tweet': '#NSTnation An earthquake measuring 5.1 magnitude struck Java, Indonesia, at 2.55pm yesterday. The Malaysian Meteorological Department (#MetMalaysia) said the earthquake did not pose a tsunami threat to Malaysia.\\n\\nRead more at', 'prediction': 0.0, 'sentiment': 'Negative', 'name': 'New Straits Times'}\n",
      "{'_id': ObjectId('67f7e2f712f262f491ee0bd0'), 'Tweet': '#NSTnation The Subang Jaya City Council had previously received one complaint regarding excavation works around the Putra Heights gas pipeline explosion site.', 'prediction': 0.0, 'sentiment': 'Negative', 'name': 'New Straits Times'}\n",
      "{'_id': ObjectId('67f7e2f712f262f491ee0bd1'), 'Tweet': '#NSTTV Police are searching for three men involved in two separate robberies that left two women injured here on Thursday.\\n\\nREAD MORE :', 'prediction': 0.0, 'sentiment': 'Negative', 'name': 'New Straits Times'}\n",
      "{'_id': ObjectId('67f7e2f712f262f491ee0bd2'), 'Tweet': '#NSTnation A flood victim has expressed her heartbreak after being forced to evacuate for the second time just days into Hari Raya Aidilfitri, dampening what was meant to be a joyful celebration.', 'prediction': 0.0, 'sentiment': 'Negative', 'name': 'New Straits Times'}\n",
      "{'_id': ObjectId('67f7e2f712f262f491ee0bd3'), 'Tweet': 'MP SPEAKS | Batu Arang incinerator danger in light of Putra Heights fire', 'prediction': 0.0, 'sentiment': 'Negative', 'name': 'malaysiakini.com'}\n",
      "{'_id': ObjectId('67f7e2f712f262f491ee0bd4'), 'Tweet': '219 Putra Heights homes confirmed damaged in pipeline fire, 220 deemed safe', 'prediction': 0.0, 'sentiment': 'Negative', 'name': 'malaysiakini.com'}\n",
      "{'_id': ObjectId('67f7e2f712f262f491ee0bd5'), 'Tweet': 'Trust police probe of Putra Heights blaze - Saifuddin', 'prediction': 0.0, 'sentiment': 'Positive', 'name': 'malaysiakini.com'}\n",
      "{'_id': ObjectId('67f7e2f712f262f491ee0bd6'), 'Tweet': \"'Abang Belon' at risk of permanent paralysis from spinal injury – doctor\", 'prediction': 0.0, 'sentiment': 'Negative', 'name': 'malaysiakini.com'}\n",
      "{'_id': ObjectId('67f7e2f712f262f491ee0bd7'), 'Tweet': 'Hindu NGO asks PMO for temple regulatory body', 'prediction': 0.0, 'sentiment': 'Neutral', 'name': 'malaysiakini.com'}\n",
      "{'_id': ObjectId('67f7e2f712f262f491ee0bd8'), 'Tweet': 'Putra Heights fire: Online classes for higher education students', 'prediction': 0.0, 'sentiment': 'Negative', 'name': 'malaysiakini.com'}\n",
      "{'_id': ObjectId('67f7e2f712f262f491ee0bd9'), 'Tweet': \"Thailand, M'sia to coordinate with Myanmar on earthquake relief\", 'prediction': 0.0, 'sentiment': 'Positive', 'name': 'malaysiakini.com'}\n",
      "{'_id': ObjectId('67f7e2f712f262f491ee0bda'), 'Tweet': \"Amanah leader pans Wan Fayhsal's 'blatant lie' in Putra Heights fire\", 'prediction': 0.0, 'sentiment': 'Negative', 'name': 'malaysiakini.com'}\n",
      "{'_id': ObjectId('67f7e2f712f262f491ee0bdb'), 'Tweet': 'Pipeline fire: Draining rainwater from crater today - cops', 'prediction': 0.0, 'sentiment': 'Negative', 'name': 'malaysiakini.com'}\n",
      "{'_id': ObjectId('67f7e2f712f262f491ee0bdc'), 'Tweet': 'Fadhlina offers to contest Nibong Tebal PKR leadership post', 'prediction': 0.0, 'sentiment': 'Neutral', 'name': 'malaysiakini.com'}\n",
      "{'_id': ObjectId('67f7e2f712f262f491ee0bde'), 'Tweet': \"HISTORY | Sindhis in M'sia: Small in number, mighty in impact\", 'prediction': 0.0, 'sentiment': 'Positive', 'name': 'malaysiakini.com'}\n",
      "{'_id': ObjectId('67f7e2f712f262f491ee0bdf'), 'Tweet': 'Stop with the cheap shots during disaster, Umno leaders tell Fadhli', 'prediction': 0.0, 'sentiment': 'Negative', 'name': 'malaysiakini.com'}\n",
      "{'_id': ObjectId('67f7e2f712f262f491ee0be0'), 'Tweet': 'COMMENT | Study can no longer excuse AG-public prosecutor reform', 'prediction': 0.0, 'sentiment': 'Negative', 'name': 'malaysiakini.com'}\n",
      "{'_id': ObjectId('67f7e2f712f262f491ee0be1'), 'Tweet': \"Holidaying amid crisis is what certain PAS MB would do, says Amirudin's aide\", 'prediction': 0.0, 'sentiment': 'Negative', 'name': 'malaysiakini.com'}\n",
      "{'_id': ObjectId('67f7e2f712f262f491ee0be2'), 'Tweet': 'Putra Heights fire victim registration to end at noon tomorrow', 'prediction': 0.0, 'sentiment': 'Negative', 'name': 'malaysiakini.com'}\n",
      "{'_id': ObjectId('67f7e2f712f262f491ee0be3'), 'Tweet': \"Aid to farmers delayed to comply with Bernas' rules, Mat Sabu says\", 'prediction': 0.0, 'sentiment': 'Negative', 'name': 'malaysiakini.com'}\n",
      "{'_id': ObjectId('67f7e2f712f262f491ee0be4'), 'Tweet': 'Amirudin assures no cover-up in gas pipeline inferno probe', 'prediction': 0.0, 'sentiment': 'Positive', 'name': 'malaysiakini.com'}\n",
      "{'_id': ObjectId('67f7e2f712f262f491ee0be5'), 'Tweet': \"Ratu Naga 'sorry' over 'Chinese Negaraku' claim, blames cybertroopers\", 'prediction': 0.0, 'sentiment': 'Negative', 'name': 'malaysiakini.com'}\n",
      "{'_id': ObjectId('67f7e2f712f262f491ee0be6'), 'Tweet': 'Loke condemns critics of DAP fund set up to help gas pipeline fire victims', 'prediction': 0.0, 'sentiment': 'Negative', 'name': 'malaysiakini.com'}\n",
      "{'_id': ObjectId('67f7e2f712f262f491ee0be7'), 'Tweet': 'Cops: Boy rescued after falling into Pasir Gudang monsoon drain', 'prediction': 0.0, 'sentiment': 'Positive', 'name': 'malaysiakini.com'}\n",
      "{'_id': ObjectId('67f7e2f712f262f491ee0be8'), 'Tweet': \"'How many temporary ID applications have Shafie supported as CM?'\", 'prediction': 0.0, 'sentiment': 'Positive', 'name': 'malaysiakini.com'}\n",
      "{'_id': ObjectId('67f7e2f712f262f491ee0be9'), 'Tweet': \"PM nixes S'gor-level Raya do, wants food prepared disbursed to the needy\", 'prediction': 0.0, 'sentiment': 'Negative', 'name': 'malaysiakini.com'}\n",
      "{'_id': ObjectId('67f7e2f712f262f491ee0beb'), 'Tweet': 'Pipeline fire: Take a break, PAS info chief tells Selangor MB', 'prediction': 0.0, 'sentiment': 'Negative', 'name': 'malaysiakini.com'}\n",
      "{'_id': ObjectId('67f7e2f712f262f491ee0bec'), 'Tweet': \"Resident's chilling premonition before gas pipeline disaster\", 'prediction': 0.0, 'sentiment': 'Negative', 'name': 'malaysiakini.com'}\n",
      "{'_id': ObjectId('67f7e2f712f262f491ee0bee'), 'Tweet': \"COMMENT | Legality of Trump's tariffs being challenged\", 'prediction': 0.0, 'sentiment': 'Negative', 'name': 'malaysiakini.com'}\n",
      "{'_id': ObjectId('67f7e2f712f262f491ee0bef'), 'Tweet': 'Putra Heights fire: King visits ground zero', 'prediction': 0.0, 'sentiment': 'Negative', 'name': 'malaysiakini.com'}\n",
      "{'_id': ObjectId('67f7e2f712f262f491ee0bf0'), 'Tweet': \"COMMENT | Anwar's 'victory' speech was tactical, not arrogant\", 'prediction': 0.0, 'sentiment': 'Positive', 'name': 'malaysiakini.com'}\n",
      "{'_id': ObjectId('67f7e2f712f262f491ee0bf1'), 'Tweet': \"Dialogue, understanding key to solving 'illegal' temple issue: Ex-MHS chief\", 'prediction': 0.0, 'sentiment': 'Negative', 'name': 'malaysiakini.com'}\n",
      "{'_id': ObjectId('67f7e2f712f262f491ee0bf2'), 'Tweet': 'Abang Iskandar poised to be first Sarawakian CJ, says report', 'prediction': 0.0, 'sentiment': 'Positive', 'name': 'malaysiakini.com'}\n",
      "{'_id': ObjectId('67f7e2f712f262f491ee0bf3'), 'Tweet': '61 attacks reported in Myanmar since deadly quake: UN', 'prediction': 0.0, 'sentiment': 'Negative', 'name': 'malaysiakini.com'}\n",
      "{'_id': ObjectId('67f7e2f712f262f491ee0bf4'), 'Tweet': 'Cops nab 4, seize over 50k in child sex abuse material', 'prediction': 0.0, 'sentiment': 'Negative', 'name': 'malaysiakini.com'}\n",
      "{'_id': ObjectId('67f7e2f712f262f491ee0bf5'), 'Tweet': \"People must understand history behind 'illegal' temples - activist\", 'prediction': 0.0, 'sentiment': 'Negative', 'name': 'malaysiakini.com'}\n",
      "{'_id': ObjectId('67f7e2f712f262f491ee0bf6'), 'Tweet': \"MOE rebukes influencer over false 'Chinese Negaraku' claim\", 'prediction': 0.0, 'sentiment': 'Neutral', 'name': 'malaysiakini.com'}\n",
      "{'_id': ObjectId('67f7e2f712f262f491ee0bf7'), 'Tweet': '“Additionally, we discussed the situation in Myanmar and agreed that ASEAN must engage with all stakeholders to pursue an inclusive and peaceful resolution', 'prediction': 0.0, 'sentiment': 'Positive', 'name': 'theSun'}\n",
      "{'_id': ObjectId('67f7e2f712f262f491ee0bf8'), 'Tweet': '“The victim, who was from a nearby village, went to the waterfall for a picnic with his friends but stayed out of the water. However, he slipped and fell into the water while his friend was trying to take his photograph with the scenery in the background', 'prediction': 0.0, 'sentiment': 'Positive', 'name': 'theSun'}\n",
      "{'_id': ObjectId('67f7e2f712f262f491ee0bf9'), 'Tweet': 'Besides cash aid, flood evacuees also received food aid from the authorities', 'prediction': 0.0, 'sentiment': 'Neutral', 'name': 'theSun'}\n",
      "{'_id': ObjectId('67f7e2f712f262f491ee0bfa'), 'Tweet': '“There was no incident where the IDF tried to cover up. On the contrary, they called the UN immediately.” There was no immediate comment from U.N. officials', 'prediction': 0.0, 'sentiment': 'Negative', 'name': 'theSun'}\n",
      "{'_id': ObjectId('67f7e2f712f262f491ee0bfb'), 'Tweet': '“There is still room for negotiation, and we do not yet know the full extent, timing, or magnitude of the tariff, nor which scope of coverage and which products will be affected by the tariff', 'prediction': 0.0, 'sentiment': 'Negative', 'name': 'theSun'}\n",
      "{'_id': ObjectId('67f7e2f712f262f491ee0bfc'), 'Tweet': '“Given the current rainy weather, we first need to pump out the accumulated water, which could take up to seven to ten days', 'prediction': 0.0, 'sentiment': 'Negative', 'name': 'theSun'}\n",
      "{'_id': ObjectId('67f7e2f712f262f491ee0bfd'), 'Tweet': 'Malaysia is among those affected by the tariffs whereby from April 5, every Malaysian product shipped to the US will face at least a 10 per cent duty; and from April 9, most products will face a 24 per cent rate, with some exemptions', 'prediction': 0.0, 'sentiment': 'Negative', 'name': 'theSun'}\n",
      "{'_id': ObjectId('67f7e2f712f262f491ee0bfe'), 'Tweet': '“With the new rates, the cost of several products imported products, particularly in the manufacturing sector such as electronic chips, and vehicle engines will increase, as we currently lack the capacity to produce these locally', 'prediction': 0.0, 'sentiment': 'Neutral', 'name': 'theSun'}\n",
      "{'_id': ObjectId('67f7e2f712f262f491ee0c00'), 'Tweet': '“Bernas, as a private entity, has adhered to stringent internal financial governance, ensuring full transparency and accountability in the disbursement of these funds', 'prediction': 0.0, 'sentiment': 'Positive', 'name': 'theSun'}\n",
      "{'_id': ObjectId('67f7e2f712f262f491ee0c01'), 'Tweet': '“There are no victims treated in intensive care units and no deaths reported as of noon today', 'prediction': 0.0, 'sentiment': 'Positive', 'name': 'theSun'}\n",
      "{'_id': ObjectId('67f7e2f712f262f491ee0c02'), 'Tweet': '“Of the affected houses, 87 suffered major damage of more than 20 per cent, while 132 sustained minor damage of less than 20 per cent', 'prediction': 0.0, 'sentiment': 'Negative', 'name': 'theSun'}\n",
      "{'_id': ObjectId('67f7e2f712f262f491ee0c04'), 'Tweet': '“The process of gathering evidence requires diligence and investigative discipline. So I call on the public to trust the police in completing their task', 'prediction': 0.0, 'sentiment': 'Positive', 'name': 'theSun'}\n",
      "{'_id': ObjectId('67f7e2f712f262f491ee0c05'), 'Tweet': '“We knew it was coming,“ Jim Martin, a farmertold AFP of Trump’s tariffs. “I guess we’re anxious to see how things are going to eventually be resolved.”\\n#theSunMY #WorldNews #TrumpTariffs #farmer', 'prediction': 0.0, 'sentiment': 'Negative', 'name': 'theSun'}\n",
      "{'_id': ObjectId('67f7e2f712f262f491ee0c06'), 'Tweet': '“This visit has reaffirmed the deep cultural, spiritual and civilisational ties between our two nations,“ Modi said on social media, before returning to India.\\n#theSunMY #WorldNews #India #SriLanka #Modi', 'prediction': 0.0, 'sentiment': 'Neutral', 'name': 'theSun'}\n",
      "{'_id': ObjectId('67f7e2f712f262f491ee0c07'), 'Tweet': '“The incinerator project is lighting a fire not over a gas pipe but a whole coal mine that may be filled with combustible gases and coal', 'prediction': 0.0, 'sentiment': 'Negative', 'name': 'theSun'}\n",
      "{'_id': ObjectId('67f7e2f712f262f491ee0c09'), 'Tweet': '“They were on a blue Kawasaki RR motorbike. We believe they were also the suspects in a similar case reported in Taman Astakajaya Buloh Kasap, Segamat, Johor last Thursday', 'prediction': 0.0, 'sentiment': 'Negative', 'name': 'theSun'}\n",
      "{'_id': ObjectId('67f7e2f712f262f491ee0c0a'), 'Tweet': 'President Donald Trump and Vietnamese leader To Lam agreed to discuss a deal to remove tariffs, both said after a phone call that Trump called “very productive”.\\n#theSunMY #WorldNews #Vietnam #TrumpTariffs', 'prediction': 0.0, 'sentiment': 'Positive', 'name': 'theSun'}\n",
      "{'_id': ObjectId('67f7e2f712f262f491ee0c0b'), 'Tweet': '“Our clients are diversifying their presence and transferring their services to other locations,“ Telus said\\n#theSunMY #WorldNews #Meta', 'prediction': 0.0, 'sentiment': 'Neutral', 'name': 'theSun'}\n",
      "{'_id': ObjectId('67f7e2f712f262f491ee0c0c'), 'Tweet': 'The State Department said it was adding $7 million on top of an earlier $2 million, channeled through groups already on the ground.\\n#theSunMY #WorldNews #StateDepartment #Myanmar #earthquake', 'prediction': 0.0, 'sentiment': 'Positive', 'name': 'theSun'}\n",
      "{'_id': ObjectId('67f7e2f712f262f491ee0c0d'), 'Tweet': 'Fire and Rescue Department (JBPM) director-general Datuk Nor Hisham Mohammad said the results of the assessment will be presented to the relevant authorities later this afternoon.', 'prediction': 0.0, 'sentiment': 'Positive', 'name': 'theSun'}\n",
      "{'_id': ObjectId('67f7e2f712f262f491ee0c0e'), 'Tweet': '“I have instructed that classes be held online to allow flexibility at public universities, and all institutions are fully prepared to assist.', 'prediction': 0.0, 'sentiment': 'Positive', 'name': 'theSun'}\n",
      "{'_id': ObjectId('67f7e2f712f262f491ee0c0f'), 'Tweet': '“The Altair 5X multi-gas detector is equipped with a pump that allows direct gas sampling from risk areas. This device can detect gas leaks within an approximately 10 feet radius and is suitable for use in confined and open spaces.', 'prediction': 0.0, 'sentiment': 'Negative', 'name': 'theSun'}\n",
      "{'_id': ObjectId('67f7e2f712f262f491ee0c10'), 'Tweet': \"The Pyongyang International Marathon is one of the events celebrating the April 15 birthday of Kim Il Sung, North Korea's founder and grandfather of the current leader Kim Jong Un.\\n#theSunMY #WorldNews #marathon #NorthKorea #pyongyang\", 'prediction': 0.0, 'sentiment': 'Positive', 'name': 'theSun'}\n",
      "{'_id': ObjectId('67f7e2f712f262f491ee0c11'), 'Tweet': 'According to a report by Hong Kong’s Dimsum Daily, the 10.15am accident occurred on the Chuo Expressway in Hachioji, Tokyo, when the affected bus stopped near a tunnel due to traffic congestion before another bus rammed into it.', 'prediction': 0.0, 'sentiment': 'Negative', 'name': 'theSun'}\n",
      "{'_id': ObjectId('67f7e2f712f262f491ee0c12'), 'Tweet': 'Explosions in the capital. Air defence is in operation,“ Klitschko said on Telegram.\\n#theSunMY #WorldNews #Kyiv #explosions #RussiaUkraine', 'prediction': 0.0, 'sentiment': 'Positive', 'name': 'theSun'}\n",
      "{'_id': ObjectId('67f7e2f712f262f491ee0c13'), 'Tweet': '“Further talks are now expected in Doha, again with the Qataris mediating, to sustain the momentum and explore constructive solutions to end the conflict peacefully.”\\n#theSunMY #WorldNews #Congo #rebel', 'prediction': 0.0, 'sentiment': 'Negative', 'name': 'theSun'}\n",
      "{'_id': ObjectId('67f7e2f712f262f491ee0c14'), 'Tweet': 'The Ukrainian president took aim at the US Ambassador Bridget Brink after she posted a message on X on Friday evening that said: “Horrified that tonight a ballistic missile struck near a playground and restaurant.”\\n#theSunMY #WorldNews #Zelensky', 'prediction': 0.0, 'sentiment': 'Negative', 'name': 'theSun'}\n",
      "{'_id': ObjectId('67f7e2f712f262f491ee0c16'), 'Tweet': 'Le Pen evokes spirit of Martin Luther King Jr. for appeal fight #FMTNews #FMTWorld', 'prediction': 0.0, 'sentiment': 'Negative', 'name': 'Free Malaysia Today'}\n",
      "{'_id': ObjectId('67f7e2f712f262f491ee0c18'), 'Tweet': 'Photo op turns tragic as teen slips and drowns at waterfall #FMTNews #FMTEng', 'prediction': 0.0, 'sentiment': 'Negative', 'name': 'Free Malaysia Today'}\n",
      "{'_id': ObjectId('67f7e2f712f262f491ee0c1c'), 'Tweet': 'Prabowo in lightning visit for meeting\\xa0with\\xa0Anwar #FMTNews #FMTEng', 'prediction': 0.0, 'sentiment': 'Neutral', 'name': 'Free Malaysia Today'}\n",
      "{'_id': ObjectId('67f7e2f712f262f491ee0c1d'), 'Tweet': 'Russian troops push into Ukraine’s Sumy region  #FMTNews #FMTWorld', 'prediction': 0.0, 'sentiment': 'Neutral', 'name': 'Free Malaysia Today'}\n",
      "{'_id': ObjectId('67f7e2f712f262f491ee0c1e'), 'Tweet': 'Israeli military changes initial account of Gaza aid worker killings  #FMTNews #FMTWorld', 'prediction': 0.0, 'sentiment': 'Negative', 'name': 'Free Malaysia Today'}\n",
      "{'_id': ObjectId('67f7e2f712f262f491ee0c20'), 'Tweet': 'Second headless carcass of pygmy elephant found in Sabah  #FMTNews #FMTEng', 'prediction': 0.0, 'sentiment': 'Neutral', 'name': 'Free Malaysia Today'}\n",
      "{'_id': ObjectId('67f7e2f712f262f491ee0c21'), 'Tweet': '15 involved in excavation work questioned over gas pipeline explosion, say cops\\n#FMTNews #FMTEng', 'prediction': 0.0, 'sentiment': 'Negative', 'name': 'Free Malaysia Today'}\n",
      "{'_id': ObjectId('67f7e2f712f262f491ee0c23'), 'Tweet': 'Lebanese ministry says two dead in Israeli strike on south  #FMTNews #FMTWorld', 'prediction': 0.0, 'sentiment': 'Negative', 'name': 'Free Malaysia Today'}\n",
      "{'_id': ObjectId('67f7e2f712f262f491ee0c24'), 'Tweet': 'RM90 million cash aid for padi farmers paid to govt, says Bernas  #FMTNews #FMTEng', 'prediction': 0.0, 'sentiment': 'Neutral', 'name': 'Free Malaysia Today'}\n",
      "{'_id': ObjectId('67f7e2f712f262f491ee0c25'), 'Tweet': 'Three workers die of toxic fumes after working in sewer  #FMTNews #FMTEng', 'prediction': 0.0, 'sentiment': 'Negative', 'name': 'Free Malaysia Today'}\n",
      "{'_id': ObjectId('67f7e2f712f262f491ee0c27'), 'Tweet': 'Pope Francis greets crowds in first appearance since discharge  #FMTNews #FMTWorld', 'prediction': 0.0, 'sentiment': 'Positive', 'name': 'Free Malaysia Today'}\n",
      "{'_id': ObjectId('67f7e2f712f262f491ee0c28'), 'Tweet': '5 Malaysians involved in Japan tour bus accident, says Wisma Putra  #FMTNews #FMTEng', 'prediction': 0.0, 'sentiment': 'Negative', 'name': 'Free Malaysia Today'}\n",
      "{'_id': ObjectId('67f7e2f712f262f491ee0c2a'), 'Tweet': 'Ada rekod jenayah bukan alasan untuk dikasari, kata penjaja belon\\n#BeritaFMT', 'prediction': 0.0, 'sentiment': 'Neutral', 'name': 'Free Malaysia Today'}\n",
      "{'_id': ObjectId('67f7e2f712f262f491ee0c2c'), 'Tweet': 'MBSJ confirms receiving complaint about excavation work at Putra Heights #FMTNews #FMTEng', 'prediction': 0.0, 'sentiment': 'Negative', 'name': 'Free Malaysia Today'}\n",
      "{'_id': ObjectId('67f7e2f712f262f491ee0c2e'), 'Tweet': '2 teens killed while performing dangerous motorcycle stunts #FMTNews #FMTEng', 'prediction': 0.0, 'sentiment': 'Negative', 'name': 'Free Malaysia Today'}\n",
      "{'_id': ObjectId('67f7e2f712f262f491ee0c2f'), 'Tweet': 'Russian missile strike kills one, injures three in Kyiv, Ukraine says  #FMTNews #FMTWorld', 'prediction': 0.0, 'sentiment': 'Negative', 'name': 'Free Malaysia Today'}\n",
      "{'_id': ObjectId('67f7e2f712f262f491ee0c31'), 'Tweet': '15 involved in excavation work questioned over gas pipeline explosion, say cops #FMTNews #FMTEng', 'prediction': 0.0, 'sentiment': 'Negative', 'name': 'Free Malaysia Today'}\n",
      "{'_id': ObjectId('67f7e2f712f262f491ee0c32'), 'Tweet': 'South Korean pilot killed in firefighting helicopter crash #FMTNews #FMTWorld', 'prediction': 0.0, 'sentiment': 'Negative', 'name': 'Free Malaysia Today'}\n",
      "{'_id': ObjectId('67f7e2f712f262f491ee0c35'), 'Tweet': '25 homes completely destroyed by Putra Heights blaze #FMTNews #FMTEng', 'prediction': 0.0, 'sentiment': 'Negative', 'name': 'Free Malaysia Today'}\n",
      "{'_id': ObjectId('67f7e2f712f262f491ee0c37'), 'Tweet': 'EU seeks unity in first strike back at Trump tariffs #FMTNews #FMTWorld', 'prediction': 0.0, 'sentiment': 'Negative', 'name': 'Free Malaysia Today'}\n",
      "{'_id': ObjectId('67f7e2f712f262f491ee0c39'), 'Tweet': 'India’s Modi praises close Sri Lanka ties #FMTNews #FMTWorld', 'prediction': 0.0, 'sentiment': 'Positive', 'name': 'Free Malaysia Today'}\n",
      "{'_id': ObjectId('67f7e2f712f262f491ee0c3d'), 'Tweet': 'Iran’s top diplomat rejects direct negotiations with US  #FMTNews #FMTWorld', 'prediction': 0.0, 'sentiment': 'Negative', 'name': 'Free Malaysia Today'}\n",
      "{'_id': ObjectId('67f7e2f712f262f491ee0c3e'), 'Tweet': 'Penang looking to negate impact of US tariffs, says Chow #FMTNews #FMTEng', 'prediction': 0.0, 'sentiment': 'Neutral', 'name': 'Free Malaysia Today'}\n",
      "{'_id': ObjectId('67f7e2f712f262f491ee0c40'), 'Tweet': 'Also called Peter of Verona, an inquisitor and martyr. Peter was born at  Verona, Italy, in 1205. Both of his parents were Catharists, a heresy  that denied God created the material world.\\n\\nRead more on:', 'prediction': 0.0, 'sentiment': 'Positive', 'name': 'Herald Malaysia'}\n",
      "{'_id': ObjectId('67f7e2f712f262f491ee0c45'), 'Tweet': 'Five South Korean bishops have paid a visit to Gyodong Island, just across the border with North Korea, where they met North Korean refugees and prayed for peace on the Korean Peninsula.', 'prediction': 0.0, 'sentiment': 'Positive', 'name': 'Herald Malaysia'}\n",
      "{'_id': ObjectId('67f7e2f712f262f491ee0c46'), 'Tweet': \"Spokesperson Patrícia Duarte said the shrine 'categorically repudiates the acts' allegedly committed by Rupnik\", 'prediction': 0.0, 'sentiment': 'Positive', 'name': 'Herald Malaysia'}\n",
      "{'_id': ObjectId('67f7e2f712f262f491ee0c47'), 'Tweet': 'More than 20,000 pilgrims from 90 countries — including patients,  doctors, nurses, pharmacists, physiotherapists, and other health care  professionals — will participate in the Jubilee of the Sick and Health  Care Workers at the Vatican this weekend.', 'prediction': 0.0, 'sentiment': 'Positive', 'name': 'Herald Malaysia'}\n",
      "{'_id': ObjectId('67f7e2f712f262f491ee0c48'), 'Tweet': 'Vatican Secretary of State Cardinal Pietro Parolin met with  President Alar Karis of Estonia at the Vatican on Thursday morning to  discuss local and regional issues including prospects of ending the  Russia-Ukraine war.', 'prediction': 0.0, 'sentiment': 'Negative', 'name': 'Herald Malaysia'}\n",
      "{'_id': ObjectId('67f7e2f712f262f491ee0c49'), 'Tweet': \"As the Church's liturgical readings recall Jesus’ encounter with  the woman caught in adultery, the Director of the US-based Catholic  Mobilizing Network explores the Lord’s rejection of capital punishment.\", 'prediction': 0.0, 'sentiment': 'Negative', 'name': 'Herald Malaysia'}\n",
      "{'_id': ObjectId('67f7e2f712f262f491ee0c4a'), 'Tweet': 'Sr. Ivancica Fulir, a missionary in Benin, explains the importance of telling the stories of Catholic missionaries serving all over the world. \"So many good deeds remain hidden. If more people knew about them, so much more could be done.”', 'prediction': 0.0, 'sentiment': 'Positive', 'name': 'Herald Malaysia'}\n",
      "{'_id': ObjectId('67f7e2f712f262f491ee0c4d'), 'Tweet': 'The Nicene Creed: An expression of Christian identity', 'prediction': 0.0, 'sentiment': 'Neutral', 'name': 'Herald Malaysia'}\n",
      "{'_id': ObjectId('67f7e2f712f262f491ee0c4e'), 'Tweet': 'On April 4, the Catholic Church honors Saint Isidore of Seville, a  bishop and scholar who helped the Church preserve its own traditions,  and the heritage of western civilization, in the early middle ages.\\n\\nRead more on:', 'prediction': 0.0, 'sentiment': 'Positive', 'name': 'Herald Malaysia'}\n",
      "{'_id': ObjectId('67f7e2f712f262f491ee0c50'), 'Tweet': 'The Jesuit review La Civiltà Cattolica celebrates its 175th  anniversary, at a ceremony featuring Holy See Secretary of State Pietro  Parolin and Italian President Sergio Mattarella.', 'prediction': 0.0, 'sentiment': 'Positive', 'name': 'Herald Malaysia'}\n",
      "{'_id': ObjectId('67f7e2f712f262f491ee0c52'), 'Tweet': 'Two decades after Pope John Paul II died, Cardinal Konrad  Krajewski, who served as his papal ceremonialist for the last seven  years of the Polish Pope’s life, recounts the spirituality of the Polish  Pope.', 'prediction': 0.0, 'sentiment': 'Negative', 'name': 'Herald Malaysia'}\n",
      "{'_id': ObjectId('67f7e2f712f262f491ee0c53'), 'Tweet': 'Cardinal Pietro Parolin presides at Mass marking the 20th  anniversary of the death of Pope St. John Paul II. During his homily, he  commemorates the legacy of a pontiff who profoundly shaped the Church  and the world.', 'prediction': 0.0, 'sentiment': 'Negative', 'name': 'Herald Malaysia'}\n",
      "{'_id': ObjectId('67f7e2f712f262f491ee0c55'), 'Tweet': 'St. Irene of Rome was the widow of the martyr Saint Castulus, a Roman  military officer who was killed for spreading the Christian faith in  286.', 'prediction': 0.0, 'sentiment': 'Negative', 'name': 'Herald Malaysia'}\n",
      "{'_id': ObjectId('67f7e2f712f262f491ee0c56'), 'Tweet': 'Twenty years after the death of Pope John Paul II on 5 April 2005,  our Editorial Director explores how the Church celebrates the saint and  recalls his unheeded words against war.', 'prediction': 0.0, 'sentiment': 'Negative', 'name': 'Herald Malaysia'}\n",
      "{'_id': ObjectId('67f7e2f712f262f491ee0c58'), 'Tweet': '91-member Philippine Inter-agency Humanitarian Contingent has search and rescue, medical and environmental experts', 'prediction': 0.0, 'sentiment': 'Positive', 'name': 'Herald Malaysia'}\n",
      "{'_id': ObjectId('67f7e2f712f262f491ee0c59'), 'Tweet': 'Top Vatican official, Archbishop Emilio Nappa, concelebrates Mass marking founding of the Korean Pontifical Mission Societies', 'prediction': 0.0, 'sentiment': 'Positive', 'name': 'Herald Malaysia'}\n",
      "{'_id': ObjectId('67f7e2f712f262f491ee0c5b'), 'Tweet': \"Two people were injured on April 1 in a cleaver attack on an Assyrian  Christian celebration in northern Iraq's autonomous Kurdistan region,  officials said, pointing to the Islamic State jihadist group.\", 'prediction': 0.0, 'sentiment': 'Negative', 'name': 'Herald Malaysia'}\n",
      "{'_id': ObjectId('67f7e2f712f262f491ee0c5c'), 'Tweet': 'Pope: The Church is the people of God walking together', 'prediction': 0.0, 'sentiment': 'Positive', 'name': 'Herald Malaysia'}\n",
      "{'_id': ObjectId('67f7e2f712f262f491ee0c5d'), 'Tweet': '\"NaN\"', 'prediction': 0.0, 'sentiment': 'Unknown', 'name': 'Herald Malaysia'}\n",
      "{'_id': ObjectId('67f7e2f712f262f491ee0c5f'), 'Tweet': 'In a video message with his prayer intention for April, the Pope urges putting technology at the service of everyone, especially those most in need.', 'prediction': 0.0, 'sentiment': 'Neutral', 'name': 'Herald Malaysia'}\n",
      "{'_id': ObjectId('67f7e2f712f262f491ee0c60'), 'Tweet': 'Kem WABERKAT siri ketiga Keuskupan Keningau telah menghimpunkan 128 peserta dari tiga keuskupan/agung di Sabah.', 'prediction': 0.0, 'sentiment': 'Neutral', 'name': 'Herald Malaysia'}\n",
      "{'_id': ObjectId('67f7e2f712f262f491ee0c62'), 'Tweet': 'Pejabat Caritas untuk Pembangunan Manusia Gereja St Elizabeth Kota  Tinggi (POHD) bersama Creative Justice Commission, Schechinah  Association dan Sulaman Kasih telah mengadakan jualan amal yang  bertujuan membantu komuniti Rohingya di Kota Tinggi.', 'prediction': 0.0, 'sentiment': 'Positive', 'name': 'Herald Malaysia'}\n",
      "{'_id': ObjectId('67f7e2f712f262f491ee0c64'), 'Tweet': 'Dalam dunia pantas hari ini, tekanan budaya, kepantasan media sosial dan falsafah duniawi dapat menggoncang iman kita.', 'prediction': 0.0, 'sentiment': 'Neutral', 'name': 'Herald Malaysia'}\n",
      "{'_id': ObjectId('67f7e2f712f262f491ee0c66'), 'Tweet': 'The Prime Minister reiterated that Malaysia would not introduce retaliatory tariffs.', 'prediction': 0.0, 'sentiment': 'Neutral', 'name': 'The Star'}\n",
      "{'_id': ObjectId('67f7e2f712f262f491ee0c67'), 'Tweet': \"Indonesian Cabinet secretary Teddy Indra Wijaya said Prabowo's visit is in the context of Hari Raya Aidilfitri's goodwill.\", 'prediction': 0.0, 'sentiment': 'Neutral', 'name': 'The Star'}\n",
      "{'_id': ObjectId('67f7e2f712f262f491ee0c68'), 'Tweet': 'According to government data, the Shing Mun Tunnels and Route 8K, which includes the Eagle’s Nest and Sha Tin Heights Tunnels, have experienced increasing losses.', 'prediction': 0.0, 'sentiment': 'Negative', 'name': 'The Star'}\n",
      "{'_id': ObjectId('67f7e2f712f262f491ee0c69'), 'Tweet': '#NSTnation Home Minister Datuk Seri Saifuddin Nasution Ismail has urged the public to refrain from speculating about the recent Petronas gas pipeline explosion in Putra Heights, which left a trail of devastation in its wake.', 'prediction': 0.0, 'sentiment': 'Negative', 'name': 'New Straits Times'}\n",
      "{'_id': ObjectId('67f7e2f712f262f491ee0c6b'), 'Tweet': \"PM: US tariff maths flawed, no recession expected in M'sia\", 'prediction': 0.0, 'sentiment': 'Negative', 'name': 'malaysiakini.com'}\n",
      "{'_id': ObjectId('67f7e2f712f262f491ee0c6c'), 'Tweet': \"Minister says 'Chinese Negaraku' claim a symptom of 'bebal-ism'\", 'prediction': 0.0, 'sentiment': 'Neutral', 'name': 'malaysiakini.com'}\n",
      "{'_id': ObjectId('67f7e2f712f262f491ee0c6d'), 'Tweet': 'Deputy minister introduces new initiative to help Indian entrepreneurs', 'prediction': 0.0, 'sentiment': 'Positive', 'name': 'malaysiakini.com'}\n",
      "{'_id': ObjectId('67f7e2f712f262f491ee0c6e'), 'Tweet': \"M'sian search and rescue team to return from Myanmar Monday: Minister\", 'prediction': 0.0, 'sentiment': 'Positive', 'name': 'malaysiakini.com'}\n",
      "{'_id': ObjectId('67f7e2f712f262f491ee0c70'), 'Tweet': \"Deputy education minister's aide lodges police report against Ratu Naga\", 'prediction': 0.0, 'sentiment': 'Neutral', 'name': 'malaysiakini.com'}\n",
      "{'_id': ObjectId('67f7e2f712f262f491ee0c71'), 'Tweet': 'COMMENT | Fair law enforcement will end race, religious issues', 'prediction': 0.0, 'sentiment': 'Positive', 'name': 'malaysiakini.com'}\n",
      "{'_id': ObjectId('67f7e2f712f262f491ee0c72'), 'Tweet': 'Armizan to work with authorities over violating Constitution claim', 'prediction': 0.0, 'sentiment': 'Negative', 'name': 'malaysiakini.com'}\n",
      "{'_id': ObjectId('67f7e2f712f262f491ee0c73'), 'Tweet': '“What is interesting about the organisation this time is that we see many people involved including from the state governments and federal government agencies who came to help ensure the event which will start tomorrow a success', 'prediction': 0.0, 'sentiment': 'Positive', 'name': 'theSun'}\n",
      "{'_id': ObjectId('67f7e2f712f262f491ee0c74'), 'Tweet': 'Rest assured, the MADANI government will continue to prioritise the interests of Malaysia, our people, businesses and exporters', 'prediction': 0.0, 'sentiment': 'Positive', 'name': 'theSun'}\n",
      "{'_id': ObjectId('67f7e2f712f262f491ee0c75'), 'Tweet': 'The world as we knew it has gone,“ Prime Minister Keir Starmer wrote.\\n#theSiunMY #WorldNews #TrumpTariffs', 'prediction': 0.0, 'sentiment': 'Neutral', 'name': 'theSun'}\n",
      "{'_id': ObjectId('67f7e2f712f262f491ee0c77'), 'Tweet': '“The risk of job losses is absolutely major, as is that of an economic slowdown, or a halt in investment,“ said French Prime Minister Francois Bayrou\\n#theSunMY #WorldNews #Trump #tariffs #France #GDP #losingjob', 'prediction': 0.0, 'sentiment': 'Negative', 'name': 'theSun'}\n",
      "{'_id': ObjectId('67f7e2f712f262f491ee0c78'), 'Tweet': 'If you can’t give RM1,000, give RM500, minister urges Nadma #FMTNews #FMTEng', 'prediction': 0.0, 'sentiment': 'Neutral', 'name': 'Free Malaysia Today'}\n",
      "{'_id': ObjectId('67f7e2f712f262f491ee0c79'), 'Tweet': 'Turkey’s opposition leader calls for elections\\xa0by\\xa0November #FMTNews #FMTWorld', 'prediction': 0.0, 'sentiment': 'Neutral', 'name': 'Free Malaysia Today'}\n",
      "{'_id': ObjectId('67f7e2f712f262f491ee0c7a'), 'Tweet': 'Two British lawmakers detained by Israel are travelling home, minister says #FMTNews #FMTWorld', 'prediction': 0.0, 'sentiment': 'Negative', 'name': 'Free Malaysia Today'}\n",
      "{'_id': ObjectId('67f7e2f712f262f491ee0c7b'), 'Tweet': 'Roman Catholics celebrate the missionary efforts of St. Vincent  Ferrer on April 5. The Dominican preacher brought thousands of Europeans  into the Catholic Church during a period of political and spiritual  crisis in Western Europe.\\n\\nRead more on:', 'prediction': 0.0, 'sentiment': 'Negative', 'name': 'Herald Malaysia'}\n",
      "{'_id': ObjectId('67f7e2f712f262f491ee0c7c'), 'Tweet': 'The authorities have announced “Detailed Rules” coming into effect  on 1 May. Non-Chinese are asked to \"respect independence and  self-government\" and obey the Party\\'s instructions.', 'prediction': 0.0, 'sentiment': 'Positive', 'name': 'Herald Malaysia'}\n",
      "{'_id': ObjectId('67f7e2f712f262f491ee0c7d'), 'Tweet': 'The Diocesan Social Action Center of the Apostolic  Vicariate of Calapan has intensified its campaign for good governance, voters’ education, and environmental accountability in preparation for  the 2025 national and local elections in the Philippines.', 'prediction': 0.0, 'sentiment': 'Positive', 'name': 'Herald Malaysia'}\n",
      "{'_id': ObjectId('67f7e2f712f262f491ee0c7e'), 'Tweet': 'Amid global calls for greater inclusivity, Syrian interim  President Ahmad al-Sharaa appoints a new transitional government with 23  ministers from diverse backgrounds, including Hind Kabawat, a Catholic  and the only woman in the cabinet.', 'prediction': 0.0, 'sentiment': 'Positive', 'name': 'Herald Malaysia'}\n",
      "{'_id': ObjectId('67f7e2f712f262f491ee0c7f'), 'Tweet': 'The first phase of RM60mil was paid in stages, with the final RM15mil instalment completed on March 5.', 'prediction': 0.0, 'sentiment': 'Neutral', 'name': 'The Star'}\n",
      "{'_id': ObjectId('67f7e2f712f262f491ee0c80'), 'Tweet': 'Hugo Duro netted the winner in added time as Valencia moved seven points clear of the relegation zone with their shock 2-1 victory.', 'prediction': 0.0, 'sentiment': 'Positive', 'name': 'The Star'}\n",
      "{'_id': ObjectId('67f7e2f712f262f491ee0c81'), 'Tweet': '#NSTsports Brooksby upsets Paul to reach Houston final', 'prediction': 0.0, 'sentiment': 'Negative', 'name': 'New Straits Times'}\n",
      "{'_id': ObjectId('67f7e2f712f262f491ee0c82'), 'Tweet': '#NSTsports Lucky break at Texas Open keeps Novak in hunt for Masters slot', 'prediction': 0.0, 'sentiment': 'Positive', 'name': 'New Straits Times'}\n",
      "{'_id': ObjectId('67f7e2f712f262f491ee0c83'), 'Tweet': '#NSTsports Fiji and New Zealand seal sevens wins in Singapore', 'prediction': 0.0, 'sentiment': 'Positive', 'name': 'New Straits Times'}\n",
      "{'_id': ObjectId('67f7e2f712f262f491ee0c84'), 'Tweet': '#NSTnation A total of 2.4 million vehicles are expected to be on major highways until midnight today, as people return home following the Hari Raya holidays.', 'prediction': 0.0, 'sentiment': 'Positive', 'name': 'New Straits Times'}\n",
      "{'_id': ObjectId('67f7e2f712f262f491ee0c87'), 'Tweet': '#NSTTV Authorities have released drone footage showing the extent of the destruction caused by the pipeline explosion in Putra Heights.\\n\\nREAD MORE :', 'prediction': 0.0, 'sentiment': 'Negative', 'name': 'New Straits Times'}\n",
      "{'_id': ObjectId('67f7e2f712f262f491ee0c88'), 'Tweet': '#NSTsports  It was the second time the Frando Racing VHC Team Liquid Moly rider finished ahead of both Rodriguez and Garcia, having also won Race 1 on Saturday.', 'prediction': 0.0, 'sentiment': 'Positive', 'name': 'New Straits Times'}\n",
      "{'_id': ObjectId('67f7e2f712f262f491ee0c89'), 'Tweet': '#NSTsports North Korea holds first Pyongyang marathon after pandemic', 'prediction': 0.0, 'sentiment': 'Neutral', 'name': 'New Straits Times'}\n",
      "{'_id': ObjectId('67f7e2f712f262f491ee0c8a'), 'Tweet': \"#NSTsports Datuk Rashid Sidek believes former Sea Games champion Chong Wei Feng is the best candidate for the national women's singles coaching role, left vacant by Indonesian Jeffer Rosobin in February.\", 'prediction': 0.0, 'sentiment': 'Positive', 'name': 'New Straits Times'}\n",
      "{'_id': ObjectId('67f7e2f712f262f491ee0c8b'), 'Tweet': '#NSTsports Antonelli takes F1 records for race leader and fastest lap', 'prediction': 0.0, 'sentiment': 'Neutral', 'name': 'New Straits Times'}\n",
      "{'_id': ObjectId('67f7e2f712f262f491ee0c8c'), 'Tweet': '#NSTnation A team of 25 specialised fire investigators, dispatched from five states, has completed its final assessment of the area affected by the gas pipe fire in Taman Putra Harmoni, Putra Heights.', 'prediction': 0.0, 'sentiment': 'Negative', 'name': 'New Straits Times'}\n",
      "{'_id': ObjectId('67f7e2f712f262f491ee0c8d'), 'Tweet': '#NSTsports  Lai Pei Jing was left gutted after suffering a second successive final defeat with new partner Jimmy Wong — but the veteran mixed doubles player took the loss in her stride.', 'prediction': 0.0, 'sentiment': 'Negative', 'name': 'New Straits Times'}\n",
      "{'_id': ObjectId('67f7e2f712f262f491ee0c8e'), 'Tweet': 'Family of deceased sports school student demands transparent probe', 'prediction': 0.0, 'sentiment': 'Neutral', 'name': 'malaysiakini.com'}\n",
      "{'_id': ObjectId('67f7e2f712f262f491ee0c8f'), 'Tweet': \"'Abang Belon': So I can be beaten, denied a living due to criminal record?\", 'prediction': 0.0, 'sentiment': 'Negative', 'name': 'malaysiakini.com'}\n",
      "{'_id': ObjectId('67f7e2f712f262f491ee0c90'), 'Tweet': 'Putra Heights fire: Final assessment of affected houses complete', 'prediction': 0.0, 'sentiment': 'Negative', 'name': 'malaysiakini.com'}\n",
      "{'_id': ObjectId('67f7e2f712f262f491ee0c91'), 'Tweet': 'Putra Heights fire: Final safety check at ground zero tomorrow', 'prediction': 0.0, 'sentiment': 'Positive', 'name': 'malaysiakini.com'}\n",
      "{'_id': ObjectId('67f7e2f712f262f491ee0c92'), 'Tweet': \"'Abang Belon has 13 criminal records, mostly related to narcotics'\", 'prediction': 0.0, 'sentiment': 'Negative', 'name': 'malaysiakini.com'}\n",
      "{'_id': ObjectId('67f7e2f712f262f491ee0c93'), 'Tweet': '“Seven workers were trapped in the sewer. When the team arrived at the scene, five workers had already been pulled out by members of the public and were sent to a nearby health clinic for treatment, while two others remained trapped', 'prediction': 0.0, 'sentiment': 'Negative', 'name': 'theSun'}\n",
      "{'_id': ObjectId('67f7e2f712f262f491ee0c94'), 'Tweet': 'The 41,969 unclaimed bodies, both identified and unidentified, made up 2.7 per cent of all deaths in the 2023 calendar year, and the need for a system for handling them is growing, with the number only expected to rise in the coming years', 'prediction': 0.0, 'sentiment': 'Positive', 'name': 'theSun'}\n",
      "{'_id': ObjectId('67f7e2f712f262f491ee0c95'), 'Tweet': \"Arsenal boss Mikel Arteta had said the best preparation for his side's Champions League quarter-final first leg against Real Madrid would be to win at Goodison Park\\n#theSunMY #Sports #ChampionsLeague #Arsenal #RealMadrid\", 'prediction': 0.0, 'sentiment': 'Positive', 'name': 'theSun'}\n",
      "{'_id': ObjectId('67f7e2f712f262f491ee0c96'), 'Tweet': '“The water in Sungai Senggarang in Batu Pahat is at the warning level of 3.36 metres, while Sungai Batu Pahat recorded an alert level at 2.30 metres', 'prediction': 0.0, 'sentiment': 'Negative', 'name': 'theSun'}\n",
      "{'_id': ObjectId('67f7e2f712f262f491ee0c97'), 'Tweet': 'The Malaysian Meteorological Department (MetMalaysia) has issued a warning for thunderstorms, heavy rain, and strong winds across most states until 5 pm today.', 'prediction': 0.0, 'sentiment': 'Positive', 'name': 'theSun'}\n",
      "{'_id': ObjectId('67f7e2f712f262f491ee0c98'), 'Tweet': 'He said the report would be tabled by the assessment team to the department this evening before making it public.', 'prediction': 0.0, 'sentiment': 'Neutral', 'name': 'theSun'}\n",
      "{'_id': ObjectId('67f7e2f712f262f491ee0c9a'), 'Tweet': \"Hamas's armed wing the Ezzedine al-Qassam Brigades released the more than two-minute clip showing the captives seated close to each other.\\n#theSunMY #WorldNews #Hamas #Israel #Hostages\", 'prediction': 0.0, 'sentiment': 'Neutral', 'name': 'theSun'}\n",
      "{'_id': ObjectId('67f7e2f712f262f491ee0c9b'), 'Tweet': 'Stating that the 41-year-old’s appearance as a historic moment for the club, Kedah FC owner Tan Sri Dr Mohd Daud Bakar said despite his retirement, Quaresma continues to remain active in friendly matches and charity events.', 'prediction': 0.0, 'sentiment': 'Positive', 'name': 'theSun'}\n",
      "{'_id': ObjectId('67f7e2f712f262f491ee0c9c'), 'Tweet': '“If we had won we would be further clear, but in the end it’s football,“ Gavi told Movistar.\\n#theSunMY #Sports #Barcelona #football', 'prediction': 0.0, 'sentiment': 'Positive', 'name': 'theSun'}\n",
      "{'_id': ObjectId('67f7e2f712f262f491ee0c9d'), 'Tweet': 'Stomach problem costs Sainz €20,000 for anthem breach  #FMTNews #FMTSport', 'prediction': 0.0, 'sentiment': 'Negative', 'name': 'Free Malaysia Today'}\n",
      "{'_id': ObjectId('67f7e2f712f262f491ee0c9e'), 'Tweet': 'Criminal record no excuse for being mistreated, says balloon vendor #FMTNews #FMTEng', 'prediction': 0.0, 'sentiment': 'Negative', 'name': 'Free Malaysia Today'}\n",
      "{'_id': ObjectId('67f7e2f712f262f491ee0c9f'), 'Tweet': 'Archbishop Marco Tin Win released a  message reporting the destruction of the diocesan house in Mandalay  forcing the priests to sleep outdoors together with others.', 'prediction': 0.0, 'sentiment': 'Neutral', 'name': 'Herald Malaysia'}\n"
     ]
    }
   ],
   "source": [
    "predicted_neutral = query.find_by_prediction(0)\n",
    "print(f\"Found {len(predicted_neutral)} tweets with prediction 0\")\n",
    "\n",
    "#only showing top 3\n",
    "for doc in predicted_neutral[:]:\n",
    "    print(doc)"
   ]
  },
  {
   "cell_type": "markdown",
   "id": "4de462a8",
   "metadata": {},
   "source": [
    "### Find by source name"
   ]
  },
  {
   "cell_type": "code",
   "execution_count": 15,
   "id": "0593bdcd",
   "metadata": {},
   "outputs": [
    {
     "name": "stdout",
     "output_type": "stream",
     "text": [
      "Found 50 tweets from 'The Star'\n",
      "{'_id': ObjectId('67f7e2f712f262f491ee0b74'), 'Tweet': '#Singapore Lee: “This is going to affect our trade, it’s going to affect our economy, it’s going to affect our region, and it’s going to affect our future. And it’s not good news.”', 'prediction': 0.0, 'sentiment': 'Negative', 'name': 'The Star'}\n",
      "{'_id': ObjectId('67f7e2f712f262f491ee0b75'), 'Tweet': 'According to Widiyanti, the tourism sector, classified as a service industry, is not subject to such tariffs and continues to generate foreign exchange.', 'prediction': 0.0, 'sentiment': 'Neutral', 'name': 'The Star'}\n",
      "{'_id': ObjectId('67f7e2f712f262f491ee0b76'), 'Tweet': 'Abdul Rasheed said the central bank is still awaiting further details from the United States about the tariffs.', 'prediction': 2.0, 'sentiment': 'Positive', 'name': 'The Star'}\n",
      "{'_id': ObjectId('67f7e2f712f262f491ee0b77'), 'Tweet': 'Abdul Rais noted that the global economy is currently experiencing a \"tariff war” and that the US remains a major trading partner for Malaysia.', 'prediction': 0.0, 'sentiment': 'Neutral', 'name': 'The Star'}\n",
      "{'_id': ObjectId('67f7e2f712f262f491ee0b84'), 'Tweet': 'Floodwaters were seen across multiple states in the United States on Saturday (April 5), as a spring storm that started on April 2 continues to disrupt daily life.', 'prediction': 2.0, 'sentiment': 'Positive', 'name': 'The Star'}\n",
      "{'_id': ObjectId('67f7e2f712f262f491ee0b85'), 'Tweet': 'Compared to standard surgery, researchers said the new method could dramatically improve men’s quality of life.', 'prediction': 0.0, 'sentiment': 'Positive', 'name': 'The Star'}\n",
      "{'_id': ObjectId('67f7e2f712f262f491ee0b86'), 'Tweet': '#Singapore Preliminary investigations showed that the man is believed to be involved in several shop theft cases involving items such as watches, shirts, chocolates, and accessories from four other shops.', 'prediction': 0.0, 'sentiment': 'Neutral', 'name': 'The Star'}\n",
      "{'_id': ObjectId('67f7e2f712f262f491ee0b87'), 'Tweet': 'Antonelli: \"It was not bad. What I\\'m most happy about today is the confidence I had in the car and the confidence to push, which I didn\\'t have on Friday and the start of Saturday.\"', 'prediction': 0.0, 'sentiment': 'Positive', 'name': 'The Star'}\n",
      "{'_id': ObjectId('67f7e2f712f262f491ee0b8f'), 'Tweet': '#Thailand Chadchart stated that the official death toll would be announced by the police to avoid confusion.', 'prediction': 0.0, 'sentiment': 'Negative', 'name': 'The Star'}\n",
      "{'_id': ObjectId('67f7e2f712f262f491ee0b90'), 'Tweet': 'Le Pen: \"Our fight will be a peaceful fight, a democratic fight. We will follow Martin Luther King, who defended civil rights, as an example.\"', 'prediction': 0.0, 'sentiment': 'Negative', 'name': 'The Star'}\n",
      "{'_id': ObjectId('67f7e2f712f262f491ee0b91'), 'Tweet': 'The survivors suffered hypothermia, as their body temperatures dropped abnormally, but were conscious.', 'prediction': 0.0, 'sentiment': 'Negative', 'name': 'The Star'}\n",
      "{'_id': ObjectId('67f7e2f712f262f491ee0b92'), 'Tweet': 'The number of victims in the flash flood at Kampung Baharu, Sri Gading, near Batu Pahat, increased on Sunday (April 6) morning.\\n\\nRead more at', 'prediction': 0.0, 'sentiment': 'Neutral', 'name': 'The Star'}\n",
      "{'_id': ObjectId('67f7e2f712f262f491ee0b93'), 'Tweet': 'Two men escaped unhurt from the second floor of a prayer paraphernalia shop in Johor Baru when it went up in flames.\\n\\nRead more at', 'prediction': 0.0, 'sentiment': 'Neutral', 'name': 'The Star'}\n",
      "{'_id': ObjectId('67f7e2f712f262f491ee0b94'), 'Tweet': \"Decisions, decisions.\\n\\nFor more CW Kee comics, check out Kee's World here!\", 'prediction': 0.0, 'sentiment': 'Neutral', 'name': 'The Star'}\n",
      "{'_id': ObjectId('67f7e2f712f262f491ee0b95'), 'Tweet': 'The incident occurred on Sunday at the Lata Jarum waterfall in Ulu Dong, Raub.', 'prediction': 1.0, 'sentiment': 'Neutral', 'name': 'The Star'}\n",
      "{'_id': ObjectId('67f7e2f712f262f491ee0b96'), 'Tweet': 'These tremors, ranging in magnitude from 2.8 to 7.5, followed the 7.9-magnitude earthquake that hit Myanmar at 12.51 pm local time on March 28.', 'prediction': 0.0, 'sentiment': 'Neutral', 'name': 'The Star'}\n",
      "{'_id': ObjectId('67f7e2f712f262f491ee0b97'), 'Tweet': 'The rate of nicotine addiction among people aged 20-59 increased from 19% in 2021 to 24.4%.', 'prediction': 0.0, 'sentiment': 'Positive', 'name': 'The Star'}\n",
      "{'_id': ObjectId('67f7e2f712f262f491ee0b98'), 'Tweet': \"Find out what's happening around Klang Valley here.\", 'prediction': 0.0, 'sentiment': 'Neutral', 'name': 'The Star'}\n",
      "{'_id': ObjectId('67f7e2f712f262f491ee0b99'), 'Tweet': 'Sora (which means “sky” in Japanese) is the highest sky bar in the Cambodian capital, perched on a cantilevered terrace on the 37th floor of Rosewood Phnom Penh.', 'prediction': 0.0, 'sentiment': 'Neutral', 'name': 'The Star'}\n",
      "{'_id': ObjectId('67f7e2f712f262f491ee0b9a'), 'Tweet': 'The helicopter had been deployed to help extinguish a fire in the Seobyeon-dong area, which had erupted earlier that afternoon.', 'prediction': 0.0, 'sentiment': 'Positive', 'name': 'The Star'}\n",
      "{'_id': ObjectId('67f7e2f712f262f491ee0b9b'), 'Tweet': 'MBSJ said the closure is necessary to control the situation in the area where the gas pipeline explosion took place on April 1.', 'prediction': 1.0, 'sentiment': 'Neutral', 'name': 'The Star'}\n",
      "{'_id': ObjectId('67f7e2f712f262f491ee0b9c'), 'Tweet': 'This comes after the United States announced sweeping tariffs on April 2, impacting imports from almost all trading partners, including Malaysia.', 'prediction': 2.0, 'sentiment': 'Positive', 'name': 'The Star'}\n",
      "{'_id': ObjectId('67f7e2f712f262f491ee0b9d'), 'Tweet': '\"Love, sacrifice, family, gratitude – these are values that transcend ethnicity and religion. These are the things we all celebrate.\" - Dzof Azmi', 'prediction': 0.0, 'sentiment': 'Positive', 'name': 'The Star'}\n",
      "{'_id': ObjectId('67f7e2f712f262f491ee0b9e'), 'Tweet': 'Selangor police chief Comm Datuk Hussein Omar Khan said the ground remained unstable due to the explosion and recent rainfall, delaying the investigation.', 'prediction': 0.0, 'sentiment': 'Negative', 'name': 'The Star'}\n",
      "{'_id': ObjectId('67f7e2f712f262f491ee0b9f'), 'Tweet': 'Cool.✨', 'prediction': 0.0, 'sentiment': 'Positive', 'name': 'The Star'}\n",
      "{'_id': ObjectId('67f7e2f712f262f491ee0ba0'), 'Tweet': 'The Foreign Affairs Ministry said all five individuals sustained minor injuries and have since been discharged from hospital and returned to their hotel.', 'prediction': 0.0, 'sentiment': 'Neutral', 'name': 'The Star'}\n",
      "{'_id': ObjectId('67f7e2f712f262f491ee0ba1'), 'Tweet': 'In the Voronezh region, the attack damaged a gas distribution pipeline.', 'prediction': 0.0, 'sentiment': 'Negative', 'name': 'The Star'}\n",
      "{'_id': ObjectId('67f7e2f712f262f491ee0ba2'), 'Tweet': 'A traffic jam of about 8km had formed near Hachioji toll gate on the Chuo Expressway as of the same time.', 'prediction': 1.0, 'sentiment': 'Neutral', 'name': 'The Star'}\n",
      "{'_id': ObjectId('67f7e2f712f262f491ee0ba3'), 'Tweet': 'Comm Hussein added that 25 houses were found to be completely destroyed.', 'prediction': 0.0, 'sentiment': 'Negative', 'name': 'The Star'}\n",
      "{'_id': ObjectId('67f7e2f712f262f491ee0ba4'), 'Tweet': 'Yong also said that Sabah’s direct exports to the United States account for just about 1% of the state’s total exports.', 'prediction': 2.0, 'sentiment': 'Positive', 'name': 'The Star'}\n",
      "{'_id': ObjectId('67f7e2f712f262f491ee0ba5'), 'Tweet': 'Tumpat Police Chief Mohd Khairi Shafie stated that initial investigations revealed the two teenagers, aged 17 and 16, were travelling from Pasir Pekan to Pasir Mas.', 'prediction': 0.0, 'sentiment': 'Neutral', 'name': 'The Star'}\n",
      "{'_id': ObjectId('67f7e2f712f262f491ee0ba6'), 'Tweet': 'The Pope had been out of public view since March 23.', 'prediction': 0.0, 'sentiment': 'Neutral', 'name': 'The Star'}\n",
      "{'_id': ObjectId('67f7e2f712f262f491ee0ba7'), 'Tweet': 'March alone saw over 2.05 million international arrivals, a rise of 28.5 per cent year-over-year.', 'prediction': 0.0, 'sentiment': 'Negative', 'name': 'The Star'}\n",
      "{'_id': ObjectId('67f7e2f712f262f491ee0ba8'), 'Tweet': 'ACP Christopher noted that the teenager has a speech disorder due to her disability and did not have a mobile phone with her when she went missing.', 'prediction': 0.0, 'sentiment': 'Negative', 'name': 'The Star'}\n",
      "{'_id': ObjectId('67f7e2f712f262f491ee0ba9'), 'Tweet': 'Cops searching for driver linked to missing disabled teen in Melaka', 'prediction': 0.0, 'sentiment': 'Negative', 'name': 'The Star'}\n",
      "{'_id': ObjectId('67f7e2f712f262f491ee0baa'), 'Tweet': 'GGWP, Qabil!', 'prediction': 0.0, 'sentiment': 'Neutral', 'name': 'The Star'}\n",
      "{'_id': ObjectId('67f7e2f712f262f491ee0bab'), 'Tweet': 'Selangor police chief Comm Datuk Hussein Omar Khan added that the focus now is towards the cause of the incident.', 'prediction': 0.0, 'sentiment': 'Neutral', 'name': 'The Star'}\n",
      "{'_id': ObjectId('67f7e2f712f262f491ee0bac'), 'Tweet': 'Hilmi said on average, 200 metric tonnes of garbage was collected every day before the festive season, but the figure increased to 400 metric tonnes per day during the festive season.', 'prediction': 0.0, 'sentiment': 'Positive', 'name': 'The Star'}\n",
      "{'_id': ObjectId('67f7e2f712f262f491ee0bad'), 'Tweet': 'It was previously reported that earthworks were being conducted to replace an existing sewage pipe located approximately 30m from the point of the explosion.', 'prediction': 0.0, 'sentiment': 'Neutral', 'name': 'The Star'}\n",
      "{'_id': ObjectId('67f7e2f712f262f491ee0bae'), 'Tweet': 'The Sabah Disaster Management Committee Secretariat stated that all victims are being accommodated at the Sekolah Kebangsaan Bukit Garam relief centre.', 'prediction': 0.0, 'sentiment': 'Negative', 'name': 'The Star'}\n",
      "{'_id': ObjectId('67f7e2f712f262f491ee0baf'), 'Tweet': 'From luxurious foot creams to soothing body cleansers, oils and lotions, each formula is crafted to pamper, hydrate, and rejuvenate.  💅✨', 'prediction': 0.0, 'sentiment': 'Positive', 'name': 'The Star'}\n",
      "{'_id': ObjectId('67f7e2f712f262f491ee0bb0'), 'Tweet': 'Two of the victims, aged 29 and 37, died at the scene, while the foreign worker from Indonesia died at the hospital.', 'prediction': 0.0, 'sentiment': 'Negative', 'name': 'The Star'}\n",
      "{'_id': ObjectId('67f7e2f712f262f491ee0bb1'), 'Tweet': 'Putra Heights inferno: Authorities use loaned gas detectors to conduct thorough probe', 'prediction': 0.0, 'sentiment': 'Neutral', 'name': 'The Star'}\n",
      "{'_id': ObjectId('67f7e2f712f262f491ee0bb2'), 'Tweet': 'Warisan lodges report over TikTok video defaming Shafie', 'prediction': 0.0, 'sentiment': 'Neutral', 'name': 'The Star'}\n",
      "{'_id': ObjectId('67f7e2f712f262f491ee0bb3'), 'Tweet': 'Major highways into Klang Valley congested as city folk return home', 'prediction': 0.0, 'sentiment': 'Neutral', 'name': 'The Star'}\n",
      "{'_id': ObjectId('67f7e2f712f262f491ee0c66'), 'Tweet': 'The Prime Minister reiterated that Malaysia would not introduce retaliatory tariffs.', 'prediction': 0.0, 'sentiment': 'Neutral', 'name': 'The Star'}\n",
      "{'_id': ObjectId('67f7e2f712f262f491ee0c67'), 'Tweet': \"Indonesian Cabinet secretary Teddy Indra Wijaya said Prabowo's visit is in the context of Hari Raya Aidilfitri's goodwill.\", 'prediction': 0.0, 'sentiment': 'Neutral', 'name': 'The Star'}\n",
      "{'_id': ObjectId('67f7e2f712f262f491ee0c68'), 'Tweet': 'According to government data, the Shing Mun Tunnels and Route 8K, which includes the Eagle’s Nest and Sha Tin Heights Tunnels, have experienced increasing losses.', 'prediction': 0.0, 'sentiment': 'Negative', 'name': 'The Star'}\n",
      "{'_id': ObjectId('67f7e2f712f262f491ee0c7f'), 'Tweet': 'The first phase of RM60mil was paid in stages, with the final RM15mil instalment completed on March 5.', 'prediction': 0.0, 'sentiment': 'Neutral', 'name': 'The Star'}\n",
      "{'_id': ObjectId('67f7e2f712f262f491ee0c80'), 'Tweet': 'Hugo Duro netted the winner in added time as Valencia moved seven points clear of the relegation zone with their shock 2-1 victory.', 'prediction': 0.0, 'sentiment': 'Positive', 'name': 'The Star'}\n"
     ]
    }
   ],
   "source": [
    "from_the_star = query.find_by_source(\"The Star\")\n",
    "print(f\"Found {len(from_the_star)} tweets from 'The Star'\")\n",
    "\n",
    "for doc in from_the_star[:]:\n",
    "    print(doc)"
   ]
  },
  {
   "cell_type": "markdown",
   "id": "9ed6c161",
   "metadata": {},
   "source": [
    "### Count by sentiment"
   ]
  },
  {
   "cell_type": "code",
   "execution_count": 16,
   "id": "5ca99c9f",
   "metadata": {},
   "outputs": [
    {
     "name": "stdout",
     "output_type": "stream",
     "text": [
      "Tweet count by sentiment:\n",
      "Negative: 112\n",
      "Neutral: 99\n",
      "Positive: 88\n",
      "Unknown: 1\n"
     ]
    }
   ],
   "source": [
    "sentiment_summary = query.count_by_sentiment()\n",
    "print(\"Tweet count by sentiment:\")\n",
    "for entry in sentiment_summary:\n",
    "    print(f\"{entry['_id']}: {entry['count']}\")"
   ]
  },
  {
   "cell_type": "markdown",
   "id": "eb7b6080",
   "metadata": {},
   "source": [
    "### Count by source"
   ]
  },
  {
   "cell_type": "code",
   "execution_count": 17,
   "id": "e1184ab8",
   "metadata": {},
   "outputs": [
    {
     "name": "stdout",
     "output_type": "stream",
     "text": [
      "Tweet count by news source:\n",
      "The Star: 50\n",
      "theSun: 50\n",
      "Free Malaysia Today: 50\n",
      "Herald Malaysia: 50\n",
      "malaysiakini.com: 50\n",
      "New Straits Times: 50\n"
     ]
    }
   ],
   "source": [
    "source_summary = query.count_by_source()\n",
    "print(\"Tweet count by news source:\")\n",
    "for entry in source_summary:\n",
    "    print(f\"{entry['_id']}: {entry['count']}\")"
   ]
  }
 ],
 "metadata": {
  "kernelspec": {
   "display_name": "Python 3 (ipykernel)",
   "language": "python",
   "name": "python3"
  },
  "language_info": {
   "codemirror_mode": {
    "name": "ipython",
    "version": 3
   },
   "file_extension": ".py",
   "mimetype": "text/x-python",
   "name": "python",
   "nbconvert_exporter": "python",
   "pygments_lexer": "ipython3",
   "version": "3.9.6"
  }
 },
 "nbformat": 4,
 "nbformat_minor": 5
}
